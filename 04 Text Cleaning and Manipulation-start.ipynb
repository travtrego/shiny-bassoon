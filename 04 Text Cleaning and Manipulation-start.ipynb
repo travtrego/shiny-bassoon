{
 "cells": [
  {
   "cell_type": "markdown",
   "metadata": {},
   "source": [
    "## 4. Text Cleaning and Manipulation\n",
    "\n",
    "### Before you can use text to train statistical algorithms, you will need to perform several preprocessing tasks such as text cleaning, parts of speech tagging, stop word removal, stemming, lemmatization, etc\n",
    "\n",
    "###  In Python, the text is treated as a string type. Therefore, string manipulation libraries such as Regex can be used for text cleaning and manipulation. In addition, you can use default string functions to clean and manipulate strings\n",
    "\n",
    "1. Introduction to Regular Expressions\n",
    "2. Searching Patterns in Strings\n",
    "3. Substituting Text in Strings\n",
    "4. Removing Texts and Alphabets from Strings\n",
    "5. Removing Special Characters from Strings\n",
    "6. Removing Spaces\n",
    "7. Miscellaneous String Functions\n",
    "8. Further Reading\n",
    "9. Exercises \n"
   ]
  },
  {
   "cell_type": "markdown",
   "metadata": {},
   "source": [
    "### 4.1. Introduction to Regular Expressions\n",
    "\n",
    "#### Regular Expressions, also known as Regex, is a sequence of characters used to match a pattern of strings inside some text. Once a pattern is matched, you can apply different functions on that pattern. For instance, you can substitute values on a string, and depending upon the regex pattern, you can add or remove values from text, you can search values inside a text, etc.\n",
    "\n",
    "[Python Regular Expression Operation Documentation](https://docs.python.org/3/library/re.html)\n",
    "\n",
    "[Regular Expression Howto](https://docs.python.org/3/howto/regex.html#regex-howto)"
   ]
  },
  {
   "cell_type": "code",
   "execution_count": 1,
   "metadata": {},
   "outputs": [],
   "source": [
    "import re"
   ]
  },
  {
   "cell_type": "markdown",
   "metadata": {},
   "source": [
    "### 4.2. Searching Patterns in Text (use match() or search() function)"
   ]
  },
  {
   "cell_type": "code",
   "execution_count": 4,
   "metadata": {},
   "outputs": [
    {
     "name": "stdout",
     "output_type": "stream",
     "text": [
      "<re.Match object; span=(0, 34), match='France won the FIFA World Cup 2018'>\n"
     ]
    }
   ],
   "source": [
    "sentence = \"France won the FIFA World Cup 2018\"\n",
    "\n",
    "# match any string\n",
    "# \".\" represent any symbol\n",
    "# \"*\" match zero or more repeats of previous characters\n",
    "\n",
    "output = re.match(r\".*\", sentence)\n",
    "\n",
    "print(output)"
   ]
  },
  {
   "cell_type": "code",
   "execution_count": 5,
   "metadata": {},
   "outputs": [
    {
     "name": "stdout",
     "output_type": "stream",
     "text": [
      "France won the FIFA World Cup 2018\n"
     ]
    }
   ],
   "source": [
    "# to return the matched string\n",
    "\n",
    "print(output.group(0))"
   ]
  },
  {
   "cell_type": "code",
   "execution_count": 6,
   "metadata": {},
   "outputs": [
    {
     "name": "stdout",
     "output_type": "stream",
     "text": [
      "<re.Match object; span=(0, 0), match=''>\n"
     ]
    }
   ],
   "source": [
    "sentence = \"\"\n",
    "output = re.match(r\".*\", sentence)\n",
    "print(output)"
   ]
  },
  {
   "cell_type": "code",
   "execution_count": 7,
   "metadata": {},
   "outputs": [
    {
     "name": "stdout",
     "output_type": "stream",
     "text": [
      "None\n"
     ]
    }
   ],
   "source": [
    "# + match one or more string\n",
    "\n",
    "sentence = \"\"\n",
    "output = re.match(r\".+\", sentence)\n",
    "print(output)"
   ]
  },
  {
   "cell_type": "code",
   "execution_count": 36,
   "metadata": {},
   "outputs": [
    {
     "name": "stdout",
     "output_type": "stream",
     "text": [
      "France won the FIFA World Cup \n"
     ]
    }
   ],
   "source": [
    "# match lower and upper case alphabets from a to z\n",
    "\n",
    "sentence = \"France won the FIFA World Cup 2018\"\n",
    "output = re.match(r\"[a-zA-z ]+\", sentence)\n",
    "print(output.group())"
   ]
  },
  {
   "cell_type": "code",
   "execution_count": 8,
   "metadata": {
    "scrolled": true
   },
   "outputs": [
    {
     "name": "stdout",
     "output_type": "stream",
     "text": [
      "None\n"
     ]
    }
   ],
   "source": [
    "sentence = \"2018 was the year when France won the FIFA World Cup\"\n",
    "output = re.match(r\"[a-zA-z ]+\", sentence)\n",
    "print(output)"
   ]
  },
  {
   "cell_type": "markdown",
   "metadata": {},
   "source": [
    "## The match function only matches the string from the start. If a match is not found at the beginning of a string, the match function returns none."
   ]
  },
  {
   "cell_type": "code",
   "execution_count": 9,
   "metadata": {
    "scrolled": true
   },
   "outputs": [
    {
     "name": "stdout",
     "output_type": "stream",
     "text": [
      " was the year when France won the FIFA World Cup\n"
     ]
    }
   ],
   "source": [
    "sentence = \"2018 was the year when France won the FIFA World Cup\"\n",
    "output = re.search(r\"[a-zA-z ]+\", sentence)\n",
    "print(output.group(0))"
   ]
  },
  {
   "cell_type": "markdown",
   "metadata": {},
   "source": [
    "## to solve above problem, the search function is used. The search function looks for the Regex pattern not only at the beginning of the string but also anywhere in the string. The following regex pattern will skip the integer at the beginning of the string and will return the remaining text."
   ]
  },
  {
   "cell_type": "markdown",
   "metadata": {},
   "source": [
    "### 4.3. Substituting Text in strings\n",
    "\n",
    "### To substitute text in a string, the sub()-function from the Regex module is used"
   ]
  },
  {
   "cell_type": "code",
   "execution_count": 10,
   "metadata": {},
   "outputs": [
    {
     "name": "stdout",
     "output_type": "stream",
     "text": [
      "France won the FIFA World Cup 1998\n"
     ]
    }
   ],
   "source": [
    "sentence = \"France won the FIFA World Cup 2018\"\n",
    "output = re.sub(r\"2018\", \"1998\", sentence)\n",
    "print(output)"
   ]
  },
  {
   "cell_type": "code",
   "execution_count": 12,
   "metadata": {},
   "outputs": [
    {
     "name": "stdout",
     "output_type": "stream",
     "text": [
      "France won the FIFA World Cup in ****\n"
     ]
    }
   ],
   "source": [
    "sentence = \"France won the FIFA World Cup in 2018\"\n",
    "output = re.sub(r\"[0-9]\", \"*\", sentence)\n",
    "print(output)"
   ]
  },
  {
   "cell_type": "markdown",
   "metadata": {},
   "source": [
    "### 4.4. Removing Digits and Alphabets from a String\n",
    "\n",
    "The “sub()”–function can also be used to remove digits, alphabets, or special characters from a string. All you have to\n",
    "do is specify a regex pattern that finds the alphabets or digits that you want to remove and replace them with an empty\n",
    "string without space."
   ]
  },
  {
   "cell_type": "code",
   "execution_count": 43,
   "metadata": {},
   "outputs": [
    {
     "name": "stdout",
     "output_type": "stream",
     "text": [
      "France won the FIFA World Cup \n"
     ]
    }
   ],
   "source": [
    "# find all digits and replaces them with an empty string\n",
    "# The regex pattern to find digits is \\d\n",
    "\n",
    "sentence = \"France won the FIFA World Cup 2018\"\n",
    "output = re.sub(r\"\\d\", \"\", sentence)\n",
    "print(output)"
   ]
  },
  {
   "cell_type": "markdown",
   "metadata": {},
   "source": [
    "### Sometimes, removing an alphabet results in a single alphabet with no meaning. For instance, in the following example, there is an “a” at the end of the string"
   ]
  },
  {
   "cell_type": "code",
   "execution_count": 13,
   "metadata": {},
   "outputs": [
    {
     "name": "stdout",
     "output_type": "stream",
     "text": [
      "France won the FIFA World Cup 2018 \n"
     ]
    }
   ],
   "source": [
    "sentence = \"France won the FIFA World Cup 2018 a \"\n",
    "result = re.sub(r\"\\s+[a-zA-Z]\\s+\", \" \", sentence )\n",
    "print(result)"
   ]
  },
  {
   "cell_type": "markdown",
   "metadata": {},
   "source": [
    "## The following script is used to remove all the alphabets. Here, the regex expression specified is [a–z]. The attribute “flags =re.I” is used to remove case sensitivity. Hence both upper- and lower-case alphabets are replaced by empty spaces."
   ]
  },
  {
   "cell_type": "code",
   "execution_count": 14,
   "metadata": {},
   "outputs": [
    {
     "name": "stdout",
     "output_type": "stream",
     "text": [
      "      2018\n"
     ]
    }
   ],
   "source": [
    "sentence = \"France won the FIFA World Cup 2018\"\n",
    "output = re.sub(r\"[a-z]\", \"\", sentence, flags =re.I)\n",
    "print(output)"
   ]
  },
  {
   "cell_type": "markdown",
   "metadata": {},
   "source": [
    "### 4.5. Removing Empty Spaces from Strings"
   ]
  },
  {
   "cell_type": "markdown",
   "metadata": {},
   "source": [
    "## To remove empty spaces from the text, you need to substitute empty spaces with an empty string having no space"
   ]
  },
  {
   "cell_type": "code",
   "execution_count": 15,
   "metadata": {},
   "outputs": [
    {
     "name": "stdout",
     "output_type": "stream",
     "text": [
      "2018\n"
     ]
    }
   ],
   "source": [
    "sentence = \"      2018\"\n",
    "output = re.sub(r\"\\s+\", \"\", sentence, flags =re.I)\n",
    "print(output)"
   ]
  },
  {
   "cell_type": "markdown",
   "metadata": {},
   "source": [
    "### 4.6. Removing Special Characters from strings"
   ]
  },
  {
   "cell_type": "code",
   "execution_count": 53,
   "metadata": {},
   "outputs": [
    {
     "name": "stdout",
     "output_type": "stream",
     "text": [
      "Frnce won  the     FIFA World Cup 2018\n"
     ]
    }
   ],
   "source": [
    "sentence = \"Fr@nce won // the + - & * FIFA World Cup 2018\"\n",
    "output = re.sub(r\"[^\\w ]\", \"\", sentence, flags =re.I)\n",
    "print(output)"
   ]
  },
  {
   "cell_type": "code",
   "execution_count": 16,
   "metadata": {},
   "outputs": [
    {
     "name": "stdout",
     "output_type": "stream",
     "text": [
      "Frnce won  the     FIFA World Cup 2018\n"
     ]
    }
   ],
   "source": [
    "sentence = \"Fr@nce won // the + - & * FIFA World Cup 2018\"\n",
    "output = re.sub(r\"[^a-zA-z0-9 ]\", \"\", sentence, flags =re.I)\n",
    "print(output)"
   ]
  },
  {
   "cell_type": "markdown",
   "metadata": {},
   "source": [
    "### 4.7.Miscellaneous String Functions"
   ]
  },
  {
   "cell_type": "markdown",
   "metadata": {},
   "source": [
    "#### Finding String Length"
   ]
  },
  {
   "cell_type": "code",
   "execution_count": 17,
   "metadata": {},
   "outputs": [
    {
     "name": "stdout",
     "output_type": "stream",
     "text": [
      "34\n"
     ]
    }
   ],
   "source": [
    "sentence = \"France won the FIFA World Cup 2018\"\n",
    "print(len(sentence))"
   ]
  },
  {
   "cell_type": "markdown",
   "metadata": {},
   "source": [
    "#### Splitting a String"
   ]
  },
  {
   "cell_type": "code",
   "execution_count": 18,
   "metadata": {},
   "outputs": [
    {
     "name": "stdout",
     "output_type": "stream",
     "text": [
      "['France', 'won', 'the', 'FIFA', 'World', 'Cup', '2018']\n"
     ]
    }
   ],
   "source": [
    "sentence = \"France won the FIFA World Cup 2018\"\n",
    "\n",
    "print(sentence.split())"
   ]
  },
  {
   "cell_type": "markdown",
   "metadata": {},
   "source": [
    "#### Joining Strings"
   ]
  },
  {
   "cell_type": "code",
   "execution_count": 19,
   "metadata": {},
   "outputs": [
    {
     "name": "stdout",
     "output_type": "stream",
     "text": [
      "France won the FIFA World Cup 2018\n"
     ]
    }
   ],
   "source": [
    "sentence1 = \"France won the \"\n",
    "sentence2 = \"FIFA World Cup 2018\"\n",
    "output = sentence1 + sentence2\n",
    "print(output)"
   ]
  },
  {
   "cell_type": "markdown",
   "metadata": {},
   "source": [
    "#### Finding Start and End of a String"
   ]
  },
  {
   "cell_type": "code",
   "execution_count": 20,
   "metadata": {},
   "outputs": [
    {
     "name": "stdout",
     "output_type": "stream",
     "text": [
      "True\n"
     ]
    }
   ],
   "source": [
    "sentence = \"France won the FIFA World Cup 2018\"\n",
    "print(sentence.startswith(\"France\"))"
   ]
  },
  {
   "cell_type": "code",
   "execution_count": 21,
   "metadata": {},
   "outputs": [
    {
     "name": "stdout",
     "output_type": "stream",
     "text": [
      "False\n"
     ]
    }
   ],
   "source": [
    "sentence = \"France won the FIFA World Cup 2018\"\n",
    "print(sentence.endswith(\"France\"))"
   ]
  },
  {
   "cell_type": "markdown",
   "metadata": {},
   "source": [
    "#### Changing String Case"
   ]
  },
  {
   "cell_type": "code",
   "execution_count": 22,
   "metadata": {},
   "outputs": [
    {
     "name": "stdout",
     "output_type": "stream",
     "text": [
      "france won the fifa world cup 2018\n"
     ]
    }
   ],
   "source": [
    "sentence = \"France won the FIFA World Cup 2018\"\n",
    "print(sentence.lower())"
   ]
  },
  {
   "cell_type": "code",
   "execution_count": 23,
   "metadata": {},
   "outputs": [
    {
     "name": "stdout",
     "output_type": "stream",
     "text": [
      "FRANCE WON THE FIFA WORLD CUP 2018\n"
     ]
    }
   ],
   "source": [
    "sentence = \"France won the FIFA World Cup 2018\"\n",
    "print(sentence.upper())"
   ]
  },
  {
   "cell_type": "markdown",
   "metadata": {},
   "source": [
    "#### Finding Substring in a String"
   ]
  },
  {
   "cell_type": "code",
   "execution_count": 24,
   "metadata": {},
   "outputs": [
    {
     "name": "stdout",
     "output_type": "stream",
     "text": [
      "True\n"
     ]
    }
   ],
   "source": [
    "sentence = \"France won the FIFA World Cup 2018\"\n",
    "print(\"France\" in sentence)"
   ]
  },
  {
   "cell_type": "code",
   "execution_count": 25,
   "metadata": {},
   "outputs": [
    {
     "name": "stdout",
     "output_type": "stream",
     "text": [
      "False\n"
     ]
    }
   ],
   "source": [
    "sentence = \"France won the FIFA World Cup 2018\"\n",
    "print(\"England\" in sentence)"
   ]
  },
  {
   "cell_type": "markdown",
   "metadata": {},
   "source": [
    "### 4.8.Further Readings "
   ]
  },
  {
   "cell_type": "markdown",
   "metadata": {},
   "source": [
    "#Official Python String Functions\n",
    "https://docs.python.org/2.5/lib/string-methods.html\n",
    "\n",
    "#Official Regex Functions Documentation\n",
    "https://docs.python.org/3/library/re.html"
   ]
  },
  {
   "cell_type": "markdown",
   "metadata": {},
   "source": [
    "## In Class Exercise"
   ]
  },
  {
   "cell_type": "markdown",
   "metadata": {},
   "source": [
    "Consider the following sentence:\n",
    "    \n",
    "sentence = \"Nick's car was sold for $ 1500\".\n",
    "\n",
    "Perform the following task on the above sentence:\n",
    "    \n",
    "1. Replace special characters with empty spaces\n",
    "2. Remove multiple empty spaces and replace them by a single space\n",
    "3. Remove any single character\n",
    "4. Convert the text to all lower case\n",
    "5. Split the text to individual words\n",
    "\n",
    "the final out:\n",
    "\n",
    "['nick', 'car', 'was', 'sold', 'for', '1500']"
   ]
  },
  {
   "cell_type": "code",
   "execution_count": null,
   "metadata": {},
   "outputs": [],
   "source": []
  },
  {
   "cell_type": "code",
   "execution_count": null,
   "metadata": {},
   "outputs": [],
   "source": []
  }
 ],
 "metadata": {
  "kernelspec": {
   "display_name": "Python 3 (ipykernel)",
   "language": "python",
   "name": "python3"
  },
  "language_info": {
   "codemirror_mode": {
    "name": "ipython",
    "version": 3
   },
   "file_extension": ".py",
   "mimetype": "text/x-python",
   "name": "python",
   "nbconvert_exporter": "python",
   "pygments_lexer": "ipython3",
   "version": "3.9.7"
  }
 },
 "nbformat": 4,
 "nbformat_minor": 2
}

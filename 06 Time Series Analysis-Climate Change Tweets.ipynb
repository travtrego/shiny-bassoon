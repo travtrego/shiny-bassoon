{
 "cells": [
  {
   "cell_type": "markdown",
   "id": "4965f377",
   "metadata": {},
   "source": [
    "## Time Series Analysis - based on climate change tweets"
   ]
  },
  {
   "cell_type": "markdown",
   "id": "09f18dfe",
   "metadata": {},
   "source": [
    "## Import Tweet Data"
   ]
  },
  {
   "cell_type": "code",
   "execution_count": 4,
   "id": "a6001233",
   "metadata": {},
   "outputs": [],
   "source": [
    "import pandas as pd\n",
    "import matplotlib.pyplot as plt\n",
    "import seaborn as sns\n",
    "import pandas as pd\n",
    "\n",
    "#to plot within notebook\n",
    "%matplotlib inline\n",
    "\n",
    "#setting figure size\n",
    "from matplotlib.pylab import rcParams\n",
    "rcParams['figure.figsize'] = 20,10\n",
    "\n",
    "# set maximun column size\n",
    "pd.options.display.max_colwidth = 150"
   ]
  },
  {
   "cell_type": "code",
   "execution_count": 5,
   "id": "ab54b476",
   "metadata": {},
   "outputs": [],
   "source": [
    "df=pd.read_csv('climate_change02.csv', sep='|')"
   ]
  },
  {
   "cell_type": "code",
   "execution_count": 6,
   "id": "a1c75e1b",
   "metadata": {},
   "outputs": [
    {
     "data": {
      "text/plain": [
       "(78250, 13)"
      ]
     },
     "execution_count": 6,
     "metadata": {},
     "output_type": "execute_result"
    }
   ],
   "source": [
    "df.shape"
   ]
  },
  {
   "cell_type": "code",
   "execution_count": 7,
   "id": "73451954",
   "metadata": {
    "scrolled": false
   },
   "outputs": [
    {
     "data": {
      "text/html": [
       "<div>\n",
       "<style scoped>\n",
       "    .dataframe tbody tr th:only-of-type {\n",
       "        vertical-align: middle;\n",
       "    }\n",
       "\n",
       "    .dataframe tbody tr th {\n",
       "        vertical-align: top;\n",
       "    }\n",
       "\n",
       "    .dataframe thead th {\n",
       "        text-align: right;\n",
       "    }\n",
       "</style>\n",
       "<table border=\"1\" class=\"dataframe\">\n",
       "  <thead>\n",
       "    <tr style=\"text-align: right;\">\n",
       "      <th></th>\n",
       "      <th>tweet_id</th>\n",
       "      <th>created_at</th>\n",
       "      <th>source</th>\n",
       "      <th>lang</th>\n",
       "      <th>user_name</th>\n",
       "      <th>name</th>\n",
       "      <th>user_location</th>\n",
       "      <th>user_followers_count</th>\n",
       "      <th>user_friends_count</th>\n",
       "      <th>retweet_created_at</th>\n",
       "      <th>retweet_user_name</th>\n",
       "      <th>retweet_name</th>\n",
       "      <th>text</th>\n",
       "    </tr>\n",
       "  </thead>\n",
       "  <tbody>\n",
       "    <tr>\n",
       "      <th>0</th>\n",
       "      <td>1508290031596843010</td>\n",
       "      <td>Mon Mar 28 03:49:00 +0000 2022</td>\n",
       "      <td>&lt;a href=\"http://twitter.com/download/android\" rel=\"nofollow\"&gt;Twitter for Android&lt;/a&gt;</td>\n",
       "      <td>en</td>\n",
       "      <td>Alteredbeastx7</td>\n",
       "      <td>Crazy Monkey</td>\n",
       "      <td>Earth</td>\n",
       "      <td>46</td>\n",
       "      <td>290</td>\n",
       "      <td>NaN</td>\n",
       "      <td>NaN</td>\n",
       "      <td>NaN</td>\n",
       "      <td>@jemmaspatronus It was a stolen joke. As usual. https://t.co/gkG3t53wIj</td>\n",
       "    </tr>\n",
       "    <tr>\n",
       "      <th>1</th>\n",
       "      <td>1508290042338422789</td>\n",
       "      <td>Mon Mar 28 03:49:03 +0000 2022</td>\n",
       "      <td>&lt;a href=\"http://twitter.com/download/iphone\" rel=\"nofollow\"&gt;Twitter for iPhone&lt;/a&gt;</td>\n",
       "      <td>en</td>\n",
       "      <td>Daniella4Change</td>\n",
       "      <td>Daniella Pierre ✊🏿</td>\n",
       "      <td>Everywhere</td>\n",
       "      <td>1066</td>\n",
       "      <td>1221</td>\n",
       "      <td>NaN</td>\n",
       "      <td>NaN</td>\n",
       "      <td>NaN</td>\n",
       "      <td>@jwmkup @SuarezMiami Much of what is going on in society should be concerning to us all. There’s widespread injusti… https://t.co/HfdfHRaEyW</td>\n",
       "    </tr>\n",
       "    <tr>\n",
       "      <th>2</th>\n",
       "      <td>1508290053998481409</td>\n",
       "      <td>Mon Mar 28 03:49:06 +0000 2022</td>\n",
       "      <td>&lt;a href=\"http://twitter.com/download/iphone\" rel=\"nofollow\"&gt;Twitter for iPhone&lt;/a&gt;</td>\n",
       "      <td>en</td>\n",
       "      <td>Shabulouschic</td>\n",
       "      <td>Cricket</td>\n",
       "      <td>NaN</td>\n",
       "      <td>557</td>\n",
       "      <td>759</td>\n",
       "      <td>Mon Mar 28 03:00:57 +0000 2022</td>\n",
       "      <td>NewsNancy9</td>\n",
       "      <td>NEWSNANCY</td>\n",
       "      <td>RT @NewsNancy9: @J_a_l_i_USA Man-made climate change is a cover for the biggest heist in world history.  People better wake up before they’…</td>\n",
       "    </tr>\n",
       "    <tr>\n",
       "      <th>3</th>\n",
       "      <td>1508290078891642888</td>\n",
       "      <td>Mon Mar 28 03:49:12 +0000 2022</td>\n",
       "      <td>&lt;a href=\"http://twitter.com/download/iphone\" rel=\"nofollow\"&gt;Twitter for iPhone&lt;/a&gt;</td>\n",
       "      <td>en</td>\n",
       "      <td>johncskinner1</td>\n",
       "      <td>John Skinner</td>\n",
       "      <td>Sydney, New South Wales</td>\n",
       "      <td>1139</td>\n",
       "      <td>2667</td>\n",
       "      <td>Mon Mar 28 03:42:54 +0000 2022</td>\n",
       "      <td>tearfundaus</td>\n",
       "      <td>Tearfund Australia</td>\n",
       "      <td>RT @tearfundaus: \"Any serious discipleship in these days needs to take climate change seriously.\" - Rev Tim Costello AO.  Download Tearfund…</td>\n",
       "    </tr>\n",
       "    <tr>\n",
       "      <th>4</th>\n",
       "      <td>1508290088832167938</td>\n",
       "      <td>Mon Mar 28 03:49:14 +0000 2022</td>\n",
       "      <td>&lt;a href=\"http://twitter.com/download/iphone\" rel=\"nofollow\"&gt;Twitter for iPhone&lt;/a&gt;</td>\n",
       "      <td>en</td>\n",
       "      <td>BAPS_Youth</td>\n",
       "      <td>BAPS Youth</td>\n",
       "      <td>BAPS Worldwide</td>\n",
       "      <td>3160</td>\n",
       "      <td>13</td>\n",
       "      <td>Sun Mar 27 04:19:35 +0000 2022</td>\n",
       "      <td>bapslosangeles</td>\n",
       "      <td>BAPS Los Angeles</td>\n",
       "      <td>RT @bapslosangeles: #BAPSLosAngeles and other @BAPS mandirs joined iconic landmarks   by turning off our non-essential lights at 8:30 this…</td>\n",
       "    </tr>\n",
       "  </tbody>\n",
       "</table>\n",
       "</div>"
      ],
      "text/plain": [
       "              tweet_id                      created_at  \\\n",
       "0  1508290031596843010  Mon Mar 28 03:49:00 +0000 2022   \n",
       "1  1508290042338422789  Mon Mar 28 03:49:03 +0000 2022   \n",
       "2  1508290053998481409  Mon Mar 28 03:49:06 +0000 2022   \n",
       "3  1508290078891642888  Mon Mar 28 03:49:12 +0000 2022   \n",
       "4  1508290088832167938  Mon Mar 28 03:49:14 +0000 2022   \n",
       "\n",
       "                                                                                 source  \\\n",
       "0  <a href=\"http://twitter.com/download/android\" rel=\"nofollow\">Twitter for Android</a>   \n",
       "1    <a href=\"http://twitter.com/download/iphone\" rel=\"nofollow\">Twitter for iPhone</a>   \n",
       "2    <a href=\"http://twitter.com/download/iphone\" rel=\"nofollow\">Twitter for iPhone</a>   \n",
       "3    <a href=\"http://twitter.com/download/iphone\" rel=\"nofollow\">Twitter for iPhone</a>   \n",
       "4    <a href=\"http://twitter.com/download/iphone\" rel=\"nofollow\">Twitter for iPhone</a>   \n",
       "\n",
       "  lang        user_name                name            user_location  \\\n",
       "0   en   Alteredbeastx7        Crazy Monkey                    Earth   \n",
       "1   en  Daniella4Change  Daniella Pierre ✊🏿               Everywhere   \n",
       "2   en    Shabulouschic             Cricket                      NaN   \n",
       "3   en    johncskinner1        John Skinner  Sydney, New South Wales   \n",
       "4   en       BAPS_Youth          BAPS Youth           BAPS Worldwide   \n",
       "\n",
       "   user_followers_count  user_friends_count              retweet_created_at  \\\n",
       "0                    46                 290                             NaN   \n",
       "1                  1066                1221                             NaN   \n",
       "2                   557                 759  Mon Mar 28 03:00:57 +0000 2022   \n",
       "3                  1139                2667  Mon Mar 28 03:42:54 +0000 2022   \n",
       "4                  3160                  13  Sun Mar 27 04:19:35 +0000 2022   \n",
       "\n",
       "  retweet_user_name        retweet_name  \\\n",
       "0               NaN                 NaN   \n",
       "1               NaN                 NaN   \n",
       "2        NewsNancy9          NEWSNANCY   \n",
       "3       tearfundaus  Tearfund Australia   \n",
       "4    bapslosangeles    BAPS Los Angeles   \n",
       "\n",
       "                                                                                                                                           text  \n",
       "0                                                                       @jemmaspatronus It was a stolen joke. As usual. https://t.co/gkG3t53wIj  \n",
       "1  @jwmkup @SuarezMiami Much of what is going on in society should be concerning to us all. There’s widespread injusti… https://t.co/HfdfHRaEyW  \n",
       "2  RT @NewsNancy9: @J_a_l_i_USA Man-made climate change is a cover for the biggest heist in world history.  People better wake up before they’…  \n",
       "3  RT @tearfundaus: \"Any serious discipleship in these days needs to take climate change seriously.\" - Rev Tim Costello AO.  Download Tearfund…  \n",
       "4   RT @bapslosangeles: #BAPSLosAngeles and other @BAPS mandirs joined iconic landmarks   by turning off our non-essential lights at 8:30 this…  "
      ]
     },
     "execution_count": 7,
     "metadata": {},
     "output_type": "execute_result"
    }
   ],
   "source": [
    "df.head()"
   ]
  },
  {
   "cell_type": "markdown",
   "id": "08e66793",
   "metadata": {},
   "source": [
    "# I have collected climate change tweets in April 2021. I will input that file and combine it with my current file. Please make sure both files has the same columns with the same order"
   ]
  },
  {
   "cell_type": "code",
   "execution_count": 23,
   "id": "a41f281e",
   "metadata": {},
   "outputs": [],
   "source": [
    "df_2021=pd.read_csv('data\\climatechange_202104.withHeader.csv', sep='|')"
   ]
  },
  {
   "cell_type": "code",
   "execution_count": 9,
   "id": "6affae06",
   "metadata": {},
   "outputs": [
    {
     "data": {
      "text/plain": [
       "(1554479, 13)"
      ]
     },
     "execution_count": 9,
     "metadata": {},
     "output_type": "execute_result"
    }
   ],
   "source": [
    "df_2021.shape"
   ]
  },
  {
   "cell_type": "code",
   "execution_count": 10,
   "id": "90c6db78",
   "metadata": {},
   "outputs": [
    {
     "data": {
      "text/html": [
       "<div>\n",
       "<style scoped>\n",
       "    .dataframe tbody tr th:only-of-type {\n",
       "        vertical-align: middle;\n",
       "    }\n",
       "\n",
       "    .dataframe tbody tr th {\n",
       "        vertical-align: top;\n",
       "    }\n",
       "\n",
       "    .dataframe thead th {\n",
       "        text-align: right;\n",
       "    }\n",
       "</style>\n",
       "<table border=\"1\" class=\"dataframe\">\n",
       "  <thead>\n",
       "    <tr style=\"text-align: right;\">\n",
       "      <th></th>\n",
       "      <th>tweet_id</th>\n",
       "      <th>created_at</th>\n",
       "      <th>source</th>\n",
       "      <th>lang</th>\n",
       "      <th>user_name</th>\n",
       "      <th>name</th>\n",
       "      <th>user_location</th>\n",
       "      <th>user_followers_count</th>\n",
       "      <th>user_friends_count</th>\n",
       "      <th>retweet_created_at</th>\n",
       "      <th>retweet_user_name</th>\n",
       "      <th>retweet_name</th>\n",
       "      <th>text</th>\n",
       "    </tr>\n",
       "  </thead>\n",
       "  <tbody>\n",
       "    <tr>\n",
       "      <th>0</th>\n",
       "      <td>1388281994082095105</td>\n",
       "      <td>2021-04-30T23:59:55.000Z</td>\n",
       "      <td>Twitter for Android</td>\n",
       "      <td>en</td>\n",
       "      <td>DavidViczz</td>\n",
       "      <td>twofirstnames 🌻</td>\n",
       "      <td>Australia</td>\n",
       "      <td>169</td>\n",
       "      <td>596</td>\n",
       "      <td>NaN</td>\n",
       "      <td>NaN</td>\n",
       "      <td>NaN</td>\n",
       "      <td>@ripmetcard @JohnKennedyMP Right now there are about to be around 1 million cars sold in Aus it is preferable they be EVs to reduce pollution. MVs...</td>\n",
       "    </tr>\n",
       "    <tr>\n",
       "      <th>1</th>\n",
       "      <td>1388281957042343940</td>\n",
       "      <td>2021-04-30T23:59:46.000Z</td>\n",
       "      <td>Twitter for Android</td>\n",
       "      <td>en</td>\n",
       "      <td>anxiety_xcx</td>\n",
       "      <td>𝖓𝖚𝖈𝖑𝖊𝖆𝖗 𝖘𝖊𝖆𝖘𝖔𝖓𝖘 ❤️‍🔥</td>\n",
       "      <td>NaN</td>\n",
       "      <td>20</td>\n",
       "      <td>101</td>\n",
       "      <td>NaN</td>\n",
       "      <td>NaN</td>\n",
       "      <td>NaN</td>\n",
       "      <td>NFTs are so stupid ya'll be affecting climate change and for what? https://t.co/D68yGhfYiT</td>\n",
       "    </tr>\n",
       "    <tr>\n",
       "      <th>2</th>\n",
       "      <td>1388281927526912002</td>\n",
       "      <td>2021-04-30T23:59:39.000Z</td>\n",
       "      <td>Twitter Web App</td>\n",
       "      <td>fr</td>\n",
       "      <td>NatureRanger</td>\n",
       "      <td>Nature Ranger ❤🇺🇦</td>\n",
       "      <td>NaN</td>\n",
       "      <td>602</td>\n",
       "      <td>2662</td>\n",
       "      <td>2021-01-13T04:35:49.000Z</td>\n",
       "      <td>great_thunberg</td>\n",
       "      <td>Greta Thunberg News</td>\n",
       "      <td>RT @great_thunberg: Our hashtags:   #SaveThePlanet #FridaysForFuture #GretaThunberg #ClimateStrike #GlobalWarming  #ActNOWForFuture #FaceTh…</td>\n",
       "    </tr>\n",
       "    <tr>\n",
       "      <th>3</th>\n",
       "      <td>1388281908593889282</td>\n",
       "      <td>2021-04-30T23:59:34.000Z</td>\n",
       "      <td>Twitter Web App</td>\n",
       "      <td>en</td>\n",
       "      <td>deanbarker</td>\n",
       "      <td>Dean Barker</td>\n",
       "      <td>Слава Україні!</td>\n",
       "      <td>5659</td>\n",
       "      <td>1611</td>\n",
       "      <td>2021-04-30T23:50:43.000Z</td>\n",
       "      <td>ChrisCoons</td>\n",
       "      <td>Senator Chris Coons</td>\n",
       "      <td>RT @ChrisCoons: Did you know forests make up 29% of Delaware’s land? Not only are forests a beautiful part of our landscape and home to all…</td>\n",
       "    </tr>\n",
       "    <tr>\n",
       "      <th>4</th>\n",
       "      <td>1388281892722511874</td>\n",
       "      <td>2021-04-30T23:59:30.000Z</td>\n",
       "      <td>Twitter for iPhone</td>\n",
       "      <td>en</td>\n",
       "      <td>ASchmittner</td>\n",
       "      <td>Andreas Schmittner</td>\n",
       "      <td>Corvallis</td>\n",
       "      <td>1541</td>\n",
       "      <td>1046</td>\n",
       "      <td>NaN</td>\n",
       "      <td>NaN</td>\n",
       "      <td>NaN</td>\n",
       "      <td>John Kerry calls on scientists to lead fight against climate change denial   Reuters https://t.co/f0rlLLCyVL</td>\n",
       "    </tr>\n",
       "  </tbody>\n",
       "</table>\n",
       "</div>"
      ],
      "text/plain": [
       "              tweet_id                created_at               source lang  \\\n",
       "0  1388281994082095105  2021-04-30T23:59:55.000Z  Twitter for Android   en   \n",
       "1  1388281957042343940  2021-04-30T23:59:46.000Z  Twitter for Android   en   \n",
       "2  1388281927526912002  2021-04-30T23:59:39.000Z      Twitter Web App   fr   \n",
       "3  1388281908593889282  2021-04-30T23:59:34.000Z      Twitter Web App   en   \n",
       "4  1388281892722511874  2021-04-30T23:59:30.000Z   Twitter for iPhone   en   \n",
       "\n",
       "      user_name                  name   user_location  user_followers_count  \\\n",
       "0    DavidViczz       twofirstnames 🌻       Australia                   169   \n",
       "1   anxiety_xcx  𝖓𝖚𝖈𝖑𝖊𝖆𝖗 𝖘𝖊𝖆𝖘𝖔𝖓𝖘 ❤️‍🔥             NaN                    20   \n",
       "2  NatureRanger     Nature Ranger ❤🇺🇦             NaN                   602   \n",
       "3    deanbarker           Dean Barker  Слава Україні!                  5659   \n",
       "4   ASchmittner    Andreas Schmittner       Corvallis                  1541   \n",
       "\n",
       "   user_friends_count        retweet_created_at retweet_user_name  \\\n",
       "0                 596                       NaN               NaN   \n",
       "1                 101                       NaN               NaN   \n",
       "2                2662  2021-01-13T04:35:49.000Z    great_thunberg   \n",
       "3                1611  2021-04-30T23:50:43.000Z        ChrisCoons   \n",
       "4                1046                       NaN               NaN   \n",
       "\n",
       "          retweet_name  \\\n",
       "0                  NaN   \n",
       "1                  NaN   \n",
       "2  Greta Thunberg News   \n",
       "3  Senator Chris Coons   \n",
       "4                  NaN   \n",
       "\n",
       "                                                                                                                                                    text  \n",
       "0  @ripmetcard @JohnKennedyMP Right now there are about to be around 1 million cars sold in Aus it is preferable they be EVs to reduce pollution. MVs...  \n",
       "1                                                             NFTs are so stupid ya'll be affecting climate change and for what? https://t.co/D68yGhfYiT  \n",
       "2           RT @great_thunberg: Our hashtags:   #SaveThePlanet #FridaysForFuture #GretaThunberg #ClimateStrike #GlobalWarming  #ActNOWForFuture #FaceTh…  \n",
       "3           RT @ChrisCoons: Did you know forests make up 29% of Delaware’s land? Not only are forests a beautiful part of our landscape and home to all…  \n",
       "4                                           John Kerry calls on scientists to lead fight against climate change denial   Reuters https://t.co/f0rlLLCyVL  "
      ]
     },
     "execution_count": 10,
     "metadata": {},
     "output_type": "execute_result"
    }
   ],
   "source": [
    "df_2021.head()"
   ]
  },
  {
   "cell_type": "code",
   "execution_count": 24,
   "id": "dd5a4cbd",
   "metadata": {},
   "outputs": [],
   "source": [
    "# join tweets in April 2021 with current tweets\n",
    "\n",
    "df=pd.concat([df, df_2021])"
   ]
  },
  {
   "cell_type": "code",
   "execution_count": 12,
   "id": "26f48c60",
   "metadata": {},
   "outputs": [
    {
     "data": {
      "text/plain": [
       "(1632729, 13)"
      ]
     },
     "execution_count": 12,
     "metadata": {},
     "output_type": "execute_result"
    }
   ],
   "source": [
    "df.shape"
   ]
  },
  {
   "cell_type": "code",
   "execution_count": 15,
   "id": "41dcd356",
   "metadata": {},
   "outputs": [],
   "source": [
    "#if you have a big dataset, you may use a random sample of your dataset. For class demonstration, I will use 30% of the data.\n",
    "#PLEASE USE FULL DATASET FOR YOUR PROJECT\n",
    "\n",
    "df=df.sample(frac=0.3)"
   ]
  },
  {
   "cell_type": "code",
   "execution_count": 16,
   "id": "e558e870",
   "metadata": {},
   "outputs": [
    {
     "data": {
      "text/plain": [
       "(146946, 13)"
      ]
     },
     "execution_count": 16,
     "metadata": {},
     "output_type": "execute_result"
    }
   ],
   "source": [
    "df.shape"
   ]
  },
  {
   "cell_type": "markdown",
   "id": "03c7589d",
   "metadata": {},
   "source": [
    "## Getting the structure of data"
   ]
  },
  {
   "cell_type": "code",
   "execution_count": 17,
   "id": "dc49c8e6",
   "metadata": {},
   "outputs": [
    {
     "data": {
      "text/plain": [
       "Index(['tweet_id', 'created_at', 'source', 'lang', 'user_name', 'name',\n",
       "       'user_location', 'user_followers_count', 'user_friends_count',\n",
       "       'retweet_created_at', 'retweet_user_name', 'retweet_name', 'text'],\n",
       "      dtype='object')"
      ]
     },
     "execution_count": 17,
     "metadata": {},
     "output_type": "execute_result"
    }
   ],
   "source": [
    "df.columns # list column names"
   ]
  },
  {
   "cell_type": "code",
   "execution_count": 18,
   "id": "358e9446",
   "metadata": {},
   "outputs": [
    {
     "data": {
      "text/plain": [
       "tweet_id                 int64\n",
       "created_at              object\n",
       "source                  object\n",
       "lang                    object\n",
       "user_name               object\n",
       "name                    object\n",
       "user_location           object\n",
       "user_followers_count     int64\n",
       "user_friends_count       int64\n",
       "retweet_created_at      object\n",
       "retweet_user_name       object\n",
       "retweet_name            object\n",
       "text                    object\n",
       "dtype: object"
      ]
     },
     "execution_count": 18,
     "metadata": {},
     "output_type": "execute_result"
    }
   ],
   "source": [
    "df.dtypes # list data type of each columns"
   ]
  },
  {
   "cell_type": "code",
   "execution_count": 19,
   "id": "da288fa7",
   "metadata": {},
   "outputs": [
    {
     "name": "stdout",
     "output_type": "stream",
     "text": [
      "<class 'pandas.core.frame.DataFrame'>\n",
      "Int64Index: 146946 entries, 1514110 to 1227227\n",
      "Data columns (total 13 columns):\n",
      " #   Column                Non-Null Count   Dtype \n",
      "---  ------                --------------   ----- \n",
      " 0   tweet_id              146946 non-null  int64 \n",
      " 1   created_at            146946 non-null  object\n",
      " 2   source                146946 non-null  object\n",
      " 3   lang                  146946 non-null  object\n",
      " 4   user_name             146946 non-null  object\n",
      " 5   name                  146929 non-null  object\n",
      " 6   user_location         102047 non-null  object\n",
      " 7   user_followers_count  146946 non-null  int64 \n",
      " 8   user_friends_count    146946 non-null  int64 \n",
      " 9   retweet_created_at    107242 non-null  object\n",
      " 10  retweet_user_name     107242 non-null  object\n",
      " 11  retweet_name          107240 non-null  object\n",
      " 12  text                  146946 non-null  object\n",
      "dtypes: int64(3), object(10)\n",
      "memory usage: 15.7+ MB\n"
     ]
    }
   ],
   "source": [
    "df.info()  # give an estimate of the columns"
   ]
  },
  {
   "cell_type": "code",
   "execution_count": 20,
   "id": "97a4607f",
   "metadata": {},
   "outputs": [
    {
     "data": {
      "text/html": [
       "<div>\n",
       "<style scoped>\n",
       "    .dataframe tbody tr th:only-of-type {\n",
       "        vertical-align: middle;\n",
       "    }\n",
       "\n",
       "    .dataframe tbody tr th {\n",
       "        vertical-align: top;\n",
       "    }\n",
       "\n",
       "    .dataframe thead th {\n",
       "        text-align: right;\n",
       "    }\n",
       "</style>\n",
       "<table border=\"1\" class=\"dataframe\">\n",
       "  <thead>\n",
       "    <tr style=\"text-align: right;\">\n",
       "      <th></th>\n",
       "      <th>tweet_id</th>\n",
       "      <th>user_followers_count</th>\n",
       "      <th>user_friends_count</th>\n",
       "    </tr>\n",
       "  </thead>\n",
       "  <tbody>\n",
       "    <tr>\n",
       "      <th>count</th>\n",
       "      <td>1.469460e+05</td>\n",
       "      <td>1.469460e+05</td>\n",
       "      <td>146946.000000</td>\n",
       "    </tr>\n",
       "    <tr>\n",
       "      <th>mean</th>\n",
       "      <td>1.389408e+18</td>\n",
       "      <td>3.080129e+04</td>\n",
       "      <td>2345.780498</td>\n",
       "    </tr>\n",
       "    <tr>\n",
       "      <th>std</th>\n",
       "      <td>2.768238e+16</td>\n",
       "      <td>6.885004e+05</td>\n",
       "      <td>6951.614825</td>\n",
       "    </tr>\n",
       "    <tr>\n",
       "      <th>min</th>\n",
       "      <td>1.376833e+18</td>\n",
       "      <td>0.000000e+00</td>\n",
       "      <td>0.000000</td>\n",
       "    </tr>\n",
       "    <tr>\n",
       "      <th>25%</th>\n",
       "      <td>1.380820e+18</td>\n",
       "      <td>1.990000e+02</td>\n",
       "      <td>318.000000</td>\n",
       "    </tr>\n",
       "    <tr>\n",
       "      <th>50%</th>\n",
       "      <td>1.384207e+18</td>\n",
       "      <td>7.340000e+02</td>\n",
       "      <td>907.000000</td>\n",
       "    </tr>\n",
       "    <tr>\n",
       "      <th>75%</th>\n",
       "      <td>1.385714e+18</td>\n",
       "      <td>2.528750e+03</td>\n",
       "      <td>2548.750000</td>\n",
       "    </tr>\n",
       "    <tr>\n",
       "      <th>max</th>\n",
       "      <td>1.510986e+18</td>\n",
       "      <td>5.778759e+07</td>\n",
       "      <td>598499.000000</td>\n",
       "    </tr>\n",
       "  </tbody>\n",
       "</table>\n",
       "</div>"
      ],
      "text/plain": [
       "           tweet_id  user_followers_count  user_friends_count\n",
       "count  1.469460e+05          1.469460e+05       146946.000000\n",
       "mean   1.389408e+18          3.080129e+04         2345.780498\n",
       "std    2.768238e+16          6.885004e+05         6951.614825\n",
       "min    1.376833e+18          0.000000e+00            0.000000\n",
       "25%    1.380820e+18          1.990000e+02          318.000000\n",
       "50%    1.384207e+18          7.340000e+02          907.000000\n",
       "75%    1.385714e+18          2.528750e+03         2548.750000\n",
       "max    1.510986e+18          5.778759e+07       598499.000000"
      ]
     },
     "execution_count": 20,
     "metadata": {},
     "output_type": "execute_result"
    }
   ],
   "source": [
    "df.describe() # show the statistics for numerical columns"
   ]
  },
  {
   "cell_type": "code",
   "execution_count": 21,
   "id": "2a611cfc",
   "metadata": {},
   "outputs": [],
   "source": [
    "# add a column showing the length of a tweet text\n",
    "\n",
    "df['tweet_length']=df['text'].str.len()"
   ]
  },
  {
   "cell_type": "code",
   "execution_count": 22,
   "id": "d2dcde71",
   "metadata": {},
   "outputs": [
    {
     "data": {
      "text/html": [
       "<div>\n",
       "<style scoped>\n",
       "    .dataframe tbody tr th:only-of-type {\n",
       "        vertical-align: middle;\n",
       "    }\n",
       "\n",
       "    .dataframe tbody tr th {\n",
       "        vertical-align: top;\n",
       "    }\n",
       "\n",
       "    .dataframe thead th {\n",
       "        text-align: right;\n",
       "    }\n",
       "</style>\n",
       "<table border=\"1\" class=\"dataframe\">\n",
       "  <thead>\n",
       "    <tr style=\"text-align: right;\">\n",
       "      <th></th>\n",
       "      <th>tweet_id</th>\n",
       "      <th>created_at</th>\n",
       "      <th>source</th>\n",
       "      <th>lang</th>\n",
       "      <th>user_name</th>\n",
       "      <th>name</th>\n",
       "      <th>user_location</th>\n",
       "      <th>user_followers_count</th>\n",
       "      <th>user_friends_count</th>\n",
       "      <th>retweet_created_at</th>\n",
       "      <th>retweet_user_name</th>\n",
       "      <th>retweet_name</th>\n",
       "      <th>text</th>\n",
       "      <th>tweet_length</th>\n",
       "    </tr>\n",
       "  </thead>\n",
       "  <tbody>\n",
       "    <tr>\n",
       "      <th>1514110</th>\n",
       "      <td>1377067017883148291</td>\n",
       "      <td>2021-03-31T01:15:36.000Z</td>\n",
       "      <td>Twitter Web App</td>\n",
       "      <td>en</td>\n",
       "      <td>schneidermayers</td>\n",
       "      <td>Matthew Schneider-Mayerson</td>\n",
       "      <td>Singapore</td>\n",
       "      <td>1556</td>\n",
       "      <td>1349</td>\n",
       "      <td>2021-03-29T13:58:13.000Z</td>\n",
       "      <td>schneidermayers</td>\n",
       "      <td>Matthew Schneider-Mayerson</td>\n",
       "      <td>RT @schneidermayers: I hope to add to the discourse by building on the emergent concept of ‘climate people’ to introduce the category of CL…</td>\n",
       "      <td>140</td>\n",
       "    </tr>\n",
       "    <tr>\n",
       "      <th>1507162</th>\n",
       "      <td>1377166536855539713</td>\n",
       "      <td>2021-03-31T07:51:03.000Z</td>\n",
       "      <td>Twitter for iPad</td>\n",
       "      <td>en</td>\n",
       "      <td>sdunne45</td>\n",
       "      <td>Sharon Dunne</td>\n",
       "      <td>NaN</td>\n",
       "      <td>1251</td>\n",
       "      <td>1119</td>\n",
       "      <td>NaN</td>\n",
       "      <td>NaN</td>\n",
       "      <td>NaN</td>\n",
       "      <td>@seanmccarthaigh @ob1orla The people who left this rubbish will usually be the green brigade, screaming about climate change &amp;amp; saving the planet.</td>\n",
       "      <td>149</td>\n",
       "    </tr>\n",
       "    <tr>\n",
       "      <th>38878</th>\n",
       "      <td>1510824902638587905</td>\n",
       "      <td>Mon Apr 04 03:41:41 +0000 2022</td>\n",
       "      <td>&lt;a href=\"https://mobile.twitter.com\" rel=\"nofollow\"&gt;Twitter Web App&lt;/a&gt;</td>\n",
       "      <td>en</td>\n",
       "      <td>ThtEnbyUEnvy</td>\n",
       "      <td>Demiboy🎀Achilles (Feucoco Lover Arc)</td>\n",
       "      <td>doin ur mom &amp; ur dad</td>\n",
       "      <td>91</td>\n",
       "      <td>288</td>\n",
       "      <td>NaN</td>\n",
       "      <td>NaN</td>\n",
       "      <td>NaN</td>\n",
       "      <td>can't punch climate change.\" I feel like it's implying we gotta do something about that...  ... and like... yeah no… https://t.co/U9B7Gb1q0Y</td>\n",
       "      <td>140</td>\n",
       "    </tr>\n",
       "    <tr>\n",
       "      <th>1123050</th>\n",
       "      <td>1381226240355536898</td>\n",
       "      <td>2021-04-11T12:42:52.000Z</td>\n",
       "      <td>Twitter for Android</td>\n",
       "      <td>en</td>\n",
       "      <td>HamptonHill6</td>\n",
       "      <td>Hampton Hill</td>\n",
       "      <td>NaN</td>\n",
       "      <td>267</td>\n",
       "      <td>487</td>\n",
       "      <td>NaN</td>\n",
       "      <td>NaN</td>\n",
       "      <td>NaN</td>\n",
       "      <td>@viviandsample @buxom9412 @thedailybeast Were you a \"we're running out of oil\" fanatic? A \"population bomb\" fanatic? A \"we're going into an ice ag...</td>\n",
       "      <td>300</td>\n",
       "    </tr>\n",
       "    <tr>\n",
       "      <th>595371</th>\n",
       "      <td>1384961311726055438</td>\n",
       "      <td>2021-04-21T20:04:42.000Z</td>\n",
       "      <td>Twitter for iPhone</td>\n",
       "      <td>en</td>\n",
       "      <td>ChrisZiesler</td>\n",
       "      <td>Chris Ziesler</td>\n",
       "      <td>Chicago, IL</td>\n",
       "      <td>407</td>\n",
       "      <td>787</td>\n",
       "      <td>2021-04-21T20:02:28.000Z</td>\n",
       "      <td>dankd</td>\n",
       "      <td>Daniel Kirk-Davidoff</td>\n",
       "      <td>RT @dankd: @ChrisZiesler and I had a great conversation with @DeigninSpain  about the impacts of climate change on renewable energy in the…</td>\n",
       "      <td>139</td>\n",
       "    </tr>\n",
       "  </tbody>\n",
       "</table>\n",
       "</div>"
      ],
      "text/plain": [
       "                    tweet_id                      created_at  \\\n",
       "1514110  1377067017883148291        2021-03-31T01:15:36.000Z   \n",
       "1507162  1377166536855539713        2021-03-31T07:51:03.000Z   \n",
       "38878    1510824902638587905  Mon Apr 04 03:41:41 +0000 2022   \n",
       "1123050  1381226240355536898        2021-04-11T12:42:52.000Z   \n",
       "595371   1384961311726055438        2021-04-21T20:04:42.000Z   \n",
       "\n",
       "                                                                          source  \\\n",
       "1514110                                                          Twitter Web App   \n",
       "1507162                                                         Twitter for iPad   \n",
       "38878    <a href=\"https://mobile.twitter.com\" rel=\"nofollow\">Twitter Web App</a>   \n",
       "1123050                                                      Twitter for Android   \n",
       "595371                                                        Twitter for iPhone   \n",
       "\n",
       "        lang        user_name                                  name  \\\n",
       "1514110   en  schneidermayers            Matthew Schneider-Mayerson   \n",
       "1507162   en         sdunne45                          Sharon Dunne   \n",
       "38878     en     ThtEnbyUEnvy  Demiboy🎀Achilles (Feucoco Lover Arc)   \n",
       "1123050   en     HamptonHill6                          Hampton Hill   \n",
       "595371    en     ChrisZiesler                         Chris Ziesler   \n",
       "\n",
       "                user_location  user_followers_count  user_friends_count  \\\n",
       "1514110             Singapore                  1556                1349   \n",
       "1507162                   NaN                  1251                1119   \n",
       "38878    doin ur mom & ur dad                    91                 288   \n",
       "1123050                   NaN                   267                 487   \n",
       "595371            Chicago, IL                   407                 787   \n",
       "\n",
       "               retweet_created_at retweet_user_name  \\\n",
       "1514110  2021-03-29T13:58:13.000Z   schneidermayers   \n",
       "1507162                       NaN               NaN   \n",
       "38878                         NaN               NaN   \n",
       "1123050                       NaN               NaN   \n",
       "595371   2021-04-21T20:02:28.000Z             dankd   \n",
       "\n",
       "                       retweet_name  \\\n",
       "1514110  Matthew Schneider-Mayerson   \n",
       "1507162                         NaN   \n",
       "38878                           NaN   \n",
       "1123050                         NaN   \n",
       "595371         Daniel Kirk-Davidoff   \n",
       "\n",
       "                                                                                                                                                          text  \\\n",
       "1514110           RT @schneidermayers: I hope to add to the discourse by building on the emergent concept of ‘climate people’ to introduce the category of CL…   \n",
       "1507162  @seanmccarthaigh @ob1orla The people who left this rubbish will usually be the green brigade, screaming about climate change &amp; saving the planet.   \n",
       "38878             can't punch climate change.\" I feel like it's implying we gotta do something about that...  ... and like... yeah no… https://t.co/U9B7Gb1q0Y   \n",
       "1123050  @viviandsample @buxom9412 @thedailybeast Were you a \"we're running out of oil\" fanatic? A \"population bomb\" fanatic? A \"we're going into an ice ag...   \n",
       "595371             RT @dankd: @ChrisZiesler and I had a great conversation with @DeigninSpain  about the impacts of climate change on renewable energy in the…   \n",
       "\n",
       "         tweet_length  \n",
       "1514110           140  \n",
       "1507162           149  \n",
       "38878             140  \n",
       "1123050           300  \n",
       "595371            139  "
      ]
     },
     "execution_count": 22,
     "metadata": {},
     "output_type": "execute_result"
    }
   ],
   "source": [
    "df.head()"
   ]
  },
  {
   "cell_type": "code",
   "execution_count": 23,
   "id": "385190b1",
   "metadata": {},
   "outputs": [
    {
     "data": {
      "text/plain": [
       "count    146946.000000\n",
       "mean        150.895683\n",
       "std          56.259491\n",
       "min           1.000000\n",
       "25%         139.000000\n",
       "50%         140.000000\n",
       "75%         140.000000\n",
       "max         972.000000\n",
       "Name: tweet_length, dtype: float64"
      ]
     },
     "execution_count": 23,
     "metadata": {},
     "output_type": "execute_result"
    }
   ],
   "source": [
    "df['tweet_length'].describe()"
   ]
  },
  {
   "cell_type": "code",
   "execution_count": 26,
   "id": "d5debcae",
   "metadata": {},
   "outputs": [
    {
     "data": {
      "text/html": [
       "<div>\n",
       "<style scoped>\n",
       "    .dataframe tbody tr th:only-of-type {\n",
       "        vertical-align: middle;\n",
       "    }\n",
       "\n",
       "    .dataframe tbody tr th {\n",
       "        vertical-align: top;\n",
       "    }\n",
       "\n",
       "    .dataframe thead th {\n",
       "        text-align: right;\n",
       "    }\n",
       "</style>\n",
       "<table border=\"1\" class=\"dataframe\">\n",
       "  <thead>\n",
       "    <tr style=\"text-align: right;\">\n",
       "      <th></th>\n",
       "      <th>count</th>\n",
       "      <th>unique</th>\n",
       "      <th>top</th>\n",
       "      <th>freq</th>\n",
       "    </tr>\n",
       "  </thead>\n",
       "  <tbody>\n",
       "    <tr>\n",
       "      <th>source</th>\n",
       "      <td>146946</td>\n",
       "      <td>927</td>\n",
       "      <td>Twitter for iPhone</td>\n",
       "      <td>41602</td>\n",
       "    </tr>\n",
       "    <tr>\n",
       "      <th>lang</th>\n",
       "      <td>146946</td>\n",
       "      <td>51</td>\n",
       "      <td>en</td>\n",
       "      <td>140748</td>\n",
       "    </tr>\n",
       "    <tr>\n",
       "      <th>user_location</th>\n",
       "      <td>102047</td>\n",
       "      <td>33964</td>\n",
       "      <td>United States</td>\n",
       "      <td>1706</td>\n",
       "    </tr>\n",
       "  </tbody>\n",
       "</table>\n",
       "</div>"
      ],
      "text/plain": [
       "                count unique                 top    freq\n",
       "source         146946    927  Twitter for iPhone   41602\n",
       "lang           146946     51                  en  140748\n",
       "user_location  102047  33964       United States    1706"
      ]
     },
     "execution_count": 26,
     "metadata": {},
     "output_type": "execute_result"
    }
   ],
   "source": [
    "# summay statiscis for non-numerical columns\n",
    "\n",
    "df[['source', 'lang', 'user_location']].describe(include='O').T"
   ]
  },
  {
   "cell_type": "markdown",
   "id": "f40bb473",
   "metadata": {},
   "source": [
    "## Checking for Missing Data"
   ]
  },
  {
   "cell_type": "code",
   "execution_count": 27,
   "id": "a80cdf3c",
   "metadata": {
    "scrolled": false
   },
   "outputs": [
    {
     "data": {
      "text/plain": [
       "tweet_id                    0\n",
       "created_at                  0\n",
       "source                      0\n",
       "lang                        0\n",
       "user_name                   0\n",
       "name                       17\n",
       "user_location           44899\n",
       "user_followers_count        0\n",
       "user_friends_count          0\n",
       "retweet_created_at      39704\n",
       "retweet_user_name       39704\n",
       "retweet_name            39706\n",
       "text                        0\n",
       "tweet_length                0\n",
       "dtype: int64"
      ]
     },
     "execution_count": 27,
     "metadata": {},
     "output_type": "execute_result"
    }
   ],
   "source": [
    "df.isna().sum()"
   ]
  },
  {
   "cell_type": "code",
   "execution_count": 28,
   "id": "d62472c5",
   "metadata": {},
   "outputs": [
    {
     "data": {
      "text/plain": [
       "146946"
      ]
     },
     "execution_count": 28,
     "metadata": {},
     "output_type": "execute_result"
    }
   ],
   "source": [
    "len(df)"
   ]
  },
  {
   "cell_type": "code",
   "execution_count": 29,
   "id": "488edeeb",
   "metadata": {},
   "outputs": [
    {
     "data": {
      "text/plain": [
       "tweet_id                0.000000\n",
       "created_at              0.000000\n",
       "source                  0.000000\n",
       "lang                    0.000000\n",
       "user_name               0.000000\n",
       "name                    0.000116\n",
       "user_location           0.305548\n",
       "user_followers_count    0.000000\n",
       "user_friends_count      0.000000\n",
       "retweet_created_at      0.270194\n",
       "retweet_user_name       0.270194\n",
       "retweet_name            0.270208\n",
       "text                    0.000000\n",
       "tweet_length            0.000000\n",
       "dtype: float64"
      ]
     },
     "execution_count": 29,
     "metadata": {},
     "output_type": "execute_result"
    }
   ],
   "source": [
    "# find the percent of missing values in each column\n",
    "\n",
    "df.isna().sum()/len(df)"
   ]
  },
  {
   "cell_type": "code",
   "execution_count": 30,
   "id": "fe22d35e",
   "metadata": {},
   "outputs": [],
   "source": [
    "# for the user location, fill missing value with \"NA\"\n",
    "\n",
    "df['user_location'].fillna(\"NA\", inplace=True)"
   ]
  },
  {
   "cell_type": "markdown",
   "id": "dc13f4f8",
   "metadata": {},
   "source": [
    "df.isna().sum()"
   ]
  },
  {
   "cell_type": "markdown",
   "id": "bd7db163",
   "metadata": {},
   "source": [
    "## Visualzing Sentiment over time\n",
    "\n",
    "Please be aware that the dataset I used is not ideal since the tweets are not collected on a continuous time period."
   ]
  },
  {
   "cell_type": "code",
   "execution_count": 31,
   "id": "1cc7b02a",
   "metadata": {
    "scrolled": true
   },
   "outputs": [
    {
     "data": {
      "text/html": [
       "<div>\n",
       "<style scoped>\n",
       "    .dataframe tbody tr th:only-of-type {\n",
       "        vertical-align: middle;\n",
       "    }\n",
       "\n",
       "    .dataframe tbody tr th {\n",
       "        vertical-align: top;\n",
       "    }\n",
       "\n",
       "    .dataframe thead th {\n",
       "        text-align: right;\n",
       "    }\n",
       "</style>\n",
       "<table border=\"1\" class=\"dataframe\">\n",
       "  <thead>\n",
       "    <tr style=\"text-align: right;\">\n",
       "      <th></th>\n",
       "      <th>tweet_id</th>\n",
       "      <th>created_at</th>\n",
       "      <th>source</th>\n",
       "      <th>lang</th>\n",
       "      <th>user_name</th>\n",
       "      <th>name</th>\n",
       "      <th>user_location</th>\n",
       "      <th>user_followers_count</th>\n",
       "      <th>user_friends_count</th>\n",
       "      <th>retweet_created_at</th>\n",
       "      <th>retweet_user_name</th>\n",
       "      <th>retweet_name</th>\n",
       "      <th>text</th>\n",
       "      <th>tweet_length</th>\n",
       "      <th>VaderSentiment</th>\n",
       "      <th>compound</th>\n",
       "    </tr>\n",
       "  </thead>\n",
       "  <tbody>\n",
       "    <tr>\n",
       "      <th>1514110</th>\n",
       "      <td>1377067017883148291</td>\n",
       "      <td>2021-03-31T01:15:36.000Z</td>\n",
       "      <td>Twitter Web App</td>\n",
       "      <td>en</td>\n",
       "      <td>schneidermayers</td>\n",
       "      <td>Matthew Schneider-Mayerson</td>\n",
       "      <td>Singapore</td>\n",
       "      <td>1556</td>\n",
       "      <td>1349</td>\n",
       "      <td>2021-03-29T13:58:13.000Z</td>\n",
       "      <td>schneidermayers</td>\n",
       "      <td>Matthew Schneider-Mayerson</td>\n",
       "      <td>RT @schneidermayers: I hope to add to the discourse by building on the emergent concept of ‘climate people’ to introduce the category of CL…</td>\n",
       "      <td>140</td>\n",
       "      <td>{'neg': 0.0, 'neu': 0.888, 'pos': 0.112, 'compound': 0.4404}</td>\n",
       "      <td>0.4404</td>\n",
       "    </tr>\n",
       "    <tr>\n",
       "      <th>1507162</th>\n",
       "      <td>1377166536855539713</td>\n",
       "      <td>2021-03-31T07:51:03.000Z</td>\n",
       "      <td>Twitter for iPad</td>\n",
       "      <td>en</td>\n",
       "      <td>sdunne45</td>\n",
       "      <td>Sharon Dunne</td>\n",
       "      <td>NA</td>\n",
       "      <td>1251</td>\n",
       "      <td>1119</td>\n",
       "      <td>NaN</td>\n",
       "      <td>NaN</td>\n",
       "      <td>NaN</td>\n",
       "      <td>@seanmccarthaigh @ob1orla The people who left this rubbish will usually be the green brigade, screaming about climate change &amp;amp; saving the planet.</td>\n",
       "      <td>149</td>\n",
       "      <td>{'neg': 0.11, 'neu': 0.89, 'pos': 0.0, 'compound': -0.3818}</td>\n",
       "      <td>-0.3818</td>\n",
       "    </tr>\n",
       "    <tr>\n",
       "      <th>38878</th>\n",
       "      <td>1510824902638587905</td>\n",
       "      <td>Mon Apr 04 03:41:41 +0000 2022</td>\n",
       "      <td>&lt;a href=\"https://mobile.twitter.com\" rel=\"nofollow\"&gt;Twitter Web App&lt;/a&gt;</td>\n",
       "      <td>en</td>\n",
       "      <td>ThtEnbyUEnvy</td>\n",
       "      <td>Demiboy🎀Achilles (Feucoco Lover Arc)</td>\n",
       "      <td>doin ur mom &amp; ur dad</td>\n",
       "      <td>91</td>\n",
       "      <td>288</td>\n",
       "      <td>NaN</td>\n",
       "      <td>NaN</td>\n",
       "      <td>NaN</td>\n",
       "      <td>can't punch climate change.\" I feel like it's implying we gotta do something about that...  ... and like... yeah no… https://t.co/U9B7Gb1q0Y</td>\n",
       "      <td>140</td>\n",
       "      <td>{'neg': 0.0, 'neu': 0.714, 'pos': 0.286, 'compound': 0.7351}</td>\n",
       "      <td>0.7351</td>\n",
       "    </tr>\n",
       "    <tr>\n",
       "      <th>1123050</th>\n",
       "      <td>1381226240355536898</td>\n",
       "      <td>2021-04-11T12:42:52.000Z</td>\n",
       "      <td>Twitter for Android</td>\n",
       "      <td>en</td>\n",
       "      <td>HamptonHill6</td>\n",
       "      <td>Hampton Hill</td>\n",
       "      <td>NA</td>\n",
       "      <td>267</td>\n",
       "      <td>487</td>\n",
       "      <td>NaN</td>\n",
       "      <td>NaN</td>\n",
       "      <td>NaN</td>\n",
       "      <td>@viviandsample @buxom9412 @thedailybeast Were you a \"we're running out of oil\" fanatic? A \"population bomb\" fanatic? A \"we're going into an ice ag...</td>\n",
       "      <td>300</td>\n",
       "      <td>{'neg': 0.082, 'neu': 0.887, 'pos': 0.032, 'compound': -0.5514}</td>\n",
       "      <td>-0.5514</td>\n",
       "    </tr>\n",
       "    <tr>\n",
       "      <th>595371</th>\n",
       "      <td>1384961311726055438</td>\n",
       "      <td>2021-04-21T20:04:42.000Z</td>\n",
       "      <td>Twitter for iPhone</td>\n",
       "      <td>en</td>\n",
       "      <td>ChrisZiesler</td>\n",
       "      <td>Chris Ziesler</td>\n",
       "      <td>Chicago, IL</td>\n",
       "      <td>407</td>\n",
       "      <td>787</td>\n",
       "      <td>2021-04-21T20:02:28.000Z</td>\n",
       "      <td>dankd</td>\n",
       "      <td>Daniel Kirk-Davidoff</td>\n",
       "      <td>RT @dankd: @ChrisZiesler and I had a great conversation with @DeigninSpain  about the impacts of climate change on renewable energy in the…</td>\n",
       "      <td>139</td>\n",
       "      <td>{'neg': 0.0, 'neu': 0.763, 'pos': 0.237, 'compound': 0.7351}</td>\n",
       "      <td>0.7351</td>\n",
       "    </tr>\n",
       "  </tbody>\n",
       "</table>\n",
       "</div>"
      ],
      "text/plain": [
       "                    tweet_id                      created_at  \\\n",
       "1514110  1377067017883148291        2021-03-31T01:15:36.000Z   \n",
       "1507162  1377166536855539713        2021-03-31T07:51:03.000Z   \n",
       "38878    1510824902638587905  Mon Apr 04 03:41:41 +0000 2022   \n",
       "1123050  1381226240355536898        2021-04-11T12:42:52.000Z   \n",
       "595371   1384961311726055438        2021-04-21T20:04:42.000Z   \n",
       "\n",
       "                                                                          source  \\\n",
       "1514110                                                          Twitter Web App   \n",
       "1507162                                                         Twitter for iPad   \n",
       "38878    <a href=\"https://mobile.twitter.com\" rel=\"nofollow\">Twitter Web App</a>   \n",
       "1123050                                                      Twitter for Android   \n",
       "595371                                                        Twitter for iPhone   \n",
       "\n",
       "        lang        user_name                                  name  \\\n",
       "1514110   en  schneidermayers            Matthew Schneider-Mayerson   \n",
       "1507162   en         sdunne45                          Sharon Dunne   \n",
       "38878     en     ThtEnbyUEnvy  Demiboy🎀Achilles (Feucoco Lover Arc)   \n",
       "1123050   en     HamptonHill6                          Hampton Hill   \n",
       "595371    en     ChrisZiesler                         Chris Ziesler   \n",
       "\n",
       "                user_location  user_followers_count  user_friends_count  \\\n",
       "1514110             Singapore                  1556                1349   \n",
       "1507162                    NA                  1251                1119   \n",
       "38878    doin ur mom & ur dad                    91                 288   \n",
       "1123050                    NA                   267                 487   \n",
       "595371            Chicago, IL                   407                 787   \n",
       "\n",
       "               retweet_created_at retweet_user_name  \\\n",
       "1514110  2021-03-29T13:58:13.000Z   schneidermayers   \n",
       "1507162                       NaN               NaN   \n",
       "38878                         NaN               NaN   \n",
       "1123050                       NaN               NaN   \n",
       "595371   2021-04-21T20:02:28.000Z             dankd   \n",
       "\n",
       "                       retweet_name  \\\n",
       "1514110  Matthew Schneider-Mayerson   \n",
       "1507162                         NaN   \n",
       "38878                           NaN   \n",
       "1123050                         NaN   \n",
       "595371         Daniel Kirk-Davidoff   \n",
       "\n",
       "                                                                                                                                                          text  \\\n",
       "1514110           RT @schneidermayers: I hope to add to the discourse by building on the emergent concept of ‘climate people’ to introduce the category of CL…   \n",
       "1507162  @seanmccarthaigh @ob1orla The people who left this rubbish will usually be the green brigade, screaming about climate change &amp; saving the planet.   \n",
       "38878             can't punch climate change.\" I feel like it's implying we gotta do something about that...  ... and like... yeah no… https://t.co/U9B7Gb1q0Y   \n",
       "1123050  @viviandsample @buxom9412 @thedailybeast Were you a \"we're running out of oil\" fanatic? A \"population bomb\" fanatic? A \"we're going into an ice ag...   \n",
       "595371             RT @dankd: @ChrisZiesler and I had a great conversation with @DeigninSpain  about the impacts of climate change on renewable energy in the…   \n",
       "\n",
       "         tweet_length  \\\n",
       "1514110           140   \n",
       "1507162           149   \n",
       "38878             140   \n",
       "1123050           300   \n",
       "595371            139   \n",
       "\n",
       "                                                          VaderSentiment  \\\n",
       "1514110     {'neg': 0.0, 'neu': 0.888, 'pos': 0.112, 'compound': 0.4404}   \n",
       "1507162      {'neg': 0.11, 'neu': 0.89, 'pos': 0.0, 'compound': -0.3818}   \n",
       "38878       {'neg': 0.0, 'neu': 0.714, 'pos': 0.286, 'compound': 0.7351}   \n",
       "1123050  {'neg': 0.082, 'neu': 0.887, 'pos': 0.032, 'compound': -0.5514}   \n",
       "595371      {'neg': 0.0, 'neu': 0.763, 'pos': 0.237, 'compound': 0.7351}   \n",
       "\n",
       "         compound  \n",
       "1514110    0.4404  \n",
       "1507162   -0.3818  \n",
       "38878      0.7351  \n",
       "1123050   -0.5514  \n",
       "595371     0.7351  "
      ]
     },
     "execution_count": 31,
     "metadata": {},
     "output_type": "execute_result"
    }
   ],
   "source": [
    "# Calculate sentiment \n",
    "\n",
    "from vaderSentiment.vaderSentiment import SentimentIntensityAnalyzer\n",
    "\n",
    "sentiment = []\n",
    "analyzer = SentimentIntensityAnalyzer()\n",
    "\n",
    "for index, row in df.iterrows():\n",
    "    tweet = str(row['text'])\n",
    "    vs = analyzer.polarity_scores(tweet)\n",
    "    sentiment.append(vs)\n",
    "    \n",
    "df['VaderSentiment'] = sentiment\n",
    "\n",
    "# extract compound value for the VaderSentiment\n",
    "\n",
    "df['compound']=df['VaderSentiment'].apply(pd.Series)['compound']\n",
    "\n",
    "df.head()"
   ]
  },
  {
   "cell_type": "code",
   "execution_count": 32,
   "id": "61d3924a",
   "metadata": {},
   "outputs": [
    {
     "data": {
      "text/plain": [
       "tweet_id                  int64\n",
       "created_at               object\n",
       "source                   object\n",
       "lang                     object\n",
       "user_name                object\n",
       "name                     object\n",
       "user_location            object\n",
       "user_followers_count      int64\n",
       "user_friends_count        int64\n",
       "retweet_created_at       object\n",
       "retweet_user_name        object\n",
       "retweet_name             object\n",
       "text                     object\n",
       "tweet_length              int64\n",
       "VaderSentiment           object\n",
       "compound                float64\n",
       "dtype: object"
      ]
     },
     "execution_count": 32,
     "metadata": {},
     "output_type": "execute_result"
    }
   ],
   "source": [
    "df.dtypes"
   ]
  },
  {
   "cell_type": "code",
   "execution_count": 33,
   "id": "861937d8",
   "metadata": {
    "scrolled": false
   },
   "outputs": [
    {
     "data": {
      "text/plain": [
       "tweet_id                              int64\n",
       "created_at              datetime64[ns, UTC]\n",
       "source                               object\n",
       "lang                                 object\n",
       "user_name                            object\n",
       "name                                 object\n",
       "user_location                        object\n",
       "user_followers_count                  int64\n",
       "user_friends_count                    int64\n",
       "retweet_created_at                   object\n",
       "retweet_user_name                    object\n",
       "retweet_name                         object\n",
       "text                                 object\n",
       "tweet_length                          int64\n",
       "VaderSentiment                       object\n",
       "compound                            float64\n",
       "dtype: object"
      ]
     },
     "execution_count": 33,
     "metadata": {},
     "output_type": "execute_result"
    }
   ],
   "source": [
    "# convert created_at to datetime format\n",
    "\n",
    "df['created_at']=pd.to_datetime(df['created_at'])\n",
    "\n",
    "df.dtypes"
   ]
  },
  {
   "cell_type": "code",
   "execution_count": 40,
   "id": "a73a8666",
   "metadata": {},
   "outputs": [
    {
     "name": "stderr",
     "output_type": "stream",
     "text": [
      "C:\\Users\\sli\\AppData\\Local\\Temp/ipykernel_23636/3268600071.py:6: FutureWarning: Series.dt.weekofyear and Series.dt.week have been deprecated.  Please use Series.dt.isocalendar().week instead.\n",
      "  df['week']=df['created_at'].dt.week\n"
     ]
    },
    {
     "data": {
      "text/html": [
       "<div>\n",
       "<style scoped>\n",
       "    .dataframe tbody tr th:only-of-type {\n",
       "        vertical-align: middle;\n",
       "    }\n",
       "\n",
       "    .dataframe tbody tr th {\n",
       "        vertical-align: top;\n",
       "    }\n",
       "\n",
       "    .dataframe thead th {\n",
       "        text-align: right;\n",
       "    }\n",
       "</style>\n",
       "<table border=\"1\" class=\"dataframe\">\n",
       "  <thead>\n",
       "    <tr style=\"text-align: right;\">\n",
       "      <th></th>\n",
       "      <th>tweet_id</th>\n",
       "      <th>created_at</th>\n",
       "      <th>source</th>\n",
       "      <th>lang</th>\n",
       "      <th>user_name</th>\n",
       "      <th>name</th>\n",
       "      <th>user_location</th>\n",
       "      <th>user_followers_count</th>\n",
       "      <th>user_friends_count</th>\n",
       "      <th>retweet_created_at</th>\n",
       "      <th>...</th>\n",
       "      <th>tweet_length</th>\n",
       "      <th>VaderSentiment</th>\n",
       "      <th>compound</th>\n",
       "      <th>date</th>\n",
       "      <th>year</th>\n",
       "      <th>month</th>\n",
       "      <th>week</th>\n",
       "      <th>day_name</th>\n",
       "      <th>hour</th>\n",
       "      <th>weekday</th>\n",
       "    </tr>\n",
       "  </thead>\n",
       "  <tbody>\n",
       "    <tr>\n",
       "      <th>1514110</th>\n",
       "      <td>1377067017883148291</td>\n",
       "      <td>2021-03-31 01:15:36+00:00</td>\n",
       "      <td>Twitter Web App</td>\n",
       "      <td>en</td>\n",
       "      <td>schneidermayers</td>\n",
       "      <td>Matthew Schneider-Mayerson</td>\n",
       "      <td>Singapore</td>\n",
       "      <td>1556</td>\n",
       "      <td>1349</td>\n",
       "      <td>2021-03-29T13:58:13.000Z</td>\n",
       "      <td>...</td>\n",
       "      <td>140</td>\n",
       "      <td>{'neg': 0.0, 'neu': 0.888, 'pos': 0.112, 'compound': 0.4404}</td>\n",
       "      <td>0.4404</td>\n",
       "      <td>2021-03-31</td>\n",
       "      <td>2021</td>\n",
       "      <td>3</td>\n",
       "      <td>13</td>\n",
       "      <td>Wednesday</td>\n",
       "      <td>1</td>\n",
       "      <td>2</td>\n",
       "    </tr>\n",
       "    <tr>\n",
       "      <th>1507162</th>\n",
       "      <td>1377166536855539713</td>\n",
       "      <td>2021-03-31 07:51:03+00:00</td>\n",
       "      <td>Twitter for iPad</td>\n",
       "      <td>en</td>\n",
       "      <td>sdunne45</td>\n",
       "      <td>Sharon Dunne</td>\n",
       "      <td>NA</td>\n",
       "      <td>1251</td>\n",
       "      <td>1119</td>\n",
       "      <td>NaN</td>\n",
       "      <td>...</td>\n",
       "      <td>149</td>\n",
       "      <td>{'neg': 0.11, 'neu': 0.89, 'pos': 0.0, 'compound': -0.3818}</td>\n",
       "      <td>-0.3818</td>\n",
       "      <td>2021-03-31</td>\n",
       "      <td>2021</td>\n",
       "      <td>3</td>\n",
       "      <td>13</td>\n",
       "      <td>Wednesday</td>\n",
       "      <td>7</td>\n",
       "      <td>2</td>\n",
       "    </tr>\n",
       "    <tr>\n",
       "      <th>38878</th>\n",
       "      <td>1510824902638587905</td>\n",
       "      <td>2022-04-04 03:41:41+00:00</td>\n",
       "      <td>&lt;a href=\"https://mobile.twitter.com\" rel=\"nofollow\"&gt;Twitter Web App&lt;/a&gt;</td>\n",
       "      <td>en</td>\n",
       "      <td>ThtEnbyUEnvy</td>\n",
       "      <td>Demiboy🎀Achilles (Feucoco Lover Arc)</td>\n",
       "      <td>doin ur mom &amp; ur dad</td>\n",
       "      <td>91</td>\n",
       "      <td>288</td>\n",
       "      <td>NaN</td>\n",
       "      <td>...</td>\n",
       "      <td>140</td>\n",
       "      <td>{'neg': 0.0, 'neu': 0.714, 'pos': 0.286, 'compound': 0.7351}</td>\n",
       "      <td>0.7351</td>\n",
       "      <td>2022-04-04</td>\n",
       "      <td>2022</td>\n",
       "      <td>4</td>\n",
       "      <td>14</td>\n",
       "      <td>Monday</td>\n",
       "      <td>3</td>\n",
       "      <td>0</td>\n",
       "    </tr>\n",
       "    <tr>\n",
       "      <th>1123050</th>\n",
       "      <td>1381226240355536898</td>\n",
       "      <td>2021-04-11 12:42:52+00:00</td>\n",
       "      <td>Twitter for Android</td>\n",
       "      <td>en</td>\n",
       "      <td>HamptonHill6</td>\n",
       "      <td>Hampton Hill</td>\n",
       "      <td>NA</td>\n",
       "      <td>267</td>\n",
       "      <td>487</td>\n",
       "      <td>NaN</td>\n",
       "      <td>...</td>\n",
       "      <td>300</td>\n",
       "      <td>{'neg': 0.082, 'neu': 0.887, 'pos': 0.032, 'compound': -0.5514}</td>\n",
       "      <td>-0.5514</td>\n",
       "      <td>2021-04-11</td>\n",
       "      <td>2021</td>\n",
       "      <td>4</td>\n",
       "      <td>14</td>\n",
       "      <td>Sunday</td>\n",
       "      <td>12</td>\n",
       "      <td>6</td>\n",
       "    </tr>\n",
       "    <tr>\n",
       "      <th>595371</th>\n",
       "      <td>1384961311726055438</td>\n",
       "      <td>2021-04-21 20:04:42+00:00</td>\n",
       "      <td>Twitter for iPhone</td>\n",
       "      <td>en</td>\n",
       "      <td>ChrisZiesler</td>\n",
       "      <td>Chris Ziesler</td>\n",
       "      <td>Chicago, IL</td>\n",
       "      <td>407</td>\n",
       "      <td>787</td>\n",
       "      <td>2021-04-21T20:02:28.000Z</td>\n",
       "      <td>...</td>\n",
       "      <td>139</td>\n",
       "      <td>{'neg': 0.0, 'neu': 0.763, 'pos': 0.237, 'compound': 0.7351}</td>\n",
       "      <td>0.7351</td>\n",
       "      <td>2021-04-21</td>\n",
       "      <td>2021</td>\n",
       "      <td>4</td>\n",
       "      <td>16</td>\n",
       "      <td>Wednesday</td>\n",
       "      <td>20</td>\n",
       "      <td>2</td>\n",
       "    </tr>\n",
       "  </tbody>\n",
       "</table>\n",
       "<p>5 rows × 23 columns</p>\n",
       "</div>"
      ],
      "text/plain": [
       "                    tweet_id                created_at  \\\n",
       "1514110  1377067017883148291 2021-03-31 01:15:36+00:00   \n",
       "1507162  1377166536855539713 2021-03-31 07:51:03+00:00   \n",
       "38878    1510824902638587905 2022-04-04 03:41:41+00:00   \n",
       "1123050  1381226240355536898 2021-04-11 12:42:52+00:00   \n",
       "595371   1384961311726055438 2021-04-21 20:04:42+00:00   \n",
       "\n",
       "                                                                          source  \\\n",
       "1514110                                                          Twitter Web App   \n",
       "1507162                                                         Twitter for iPad   \n",
       "38878    <a href=\"https://mobile.twitter.com\" rel=\"nofollow\">Twitter Web App</a>   \n",
       "1123050                                                      Twitter for Android   \n",
       "595371                                                        Twitter for iPhone   \n",
       "\n",
       "        lang        user_name                                  name  \\\n",
       "1514110   en  schneidermayers            Matthew Schneider-Mayerson   \n",
       "1507162   en         sdunne45                          Sharon Dunne   \n",
       "38878     en     ThtEnbyUEnvy  Demiboy🎀Achilles (Feucoco Lover Arc)   \n",
       "1123050   en     HamptonHill6                          Hampton Hill   \n",
       "595371    en     ChrisZiesler                         Chris Ziesler   \n",
       "\n",
       "                user_location  user_followers_count  user_friends_count  \\\n",
       "1514110             Singapore                  1556                1349   \n",
       "1507162                    NA                  1251                1119   \n",
       "38878    doin ur mom & ur dad                    91                 288   \n",
       "1123050                    NA                   267                 487   \n",
       "595371            Chicago, IL                   407                 787   \n",
       "\n",
       "               retweet_created_at  ... tweet_length  \\\n",
       "1514110  2021-03-29T13:58:13.000Z  ...          140   \n",
       "1507162                       NaN  ...          149   \n",
       "38878                         NaN  ...          140   \n",
       "1123050                       NaN  ...          300   \n",
       "595371   2021-04-21T20:02:28.000Z  ...          139   \n",
       "\n",
       "                                                          VaderSentiment  \\\n",
       "1514110     {'neg': 0.0, 'neu': 0.888, 'pos': 0.112, 'compound': 0.4404}   \n",
       "1507162      {'neg': 0.11, 'neu': 0.89, 'pos': 0.0, 'compound': -0.3818}   \n",
       "38878       {'neg': 0.0, 'neu': 0.714, 'pos': 0.286, 'compound': 0.7351}   \n",
       "1123050  {'neg': 0.082, 'neu': 0.887, 'pos': 0.032, 'compound': -0.5514}   \n",
       "595371      {'neg': 0.0, 'neu': 0.763, 'pos': 0.237, 'compound': 0.7351}   \n",
       "\n",
       "        compound        date  year  month week   day_name  hour  weekday  \n",
       "1514110   0.4404  2021-03-31  2021      3   13  Wednesday     1        2  \n",
       "1507162  -0.3818  2021-03-31  2021      3   13  Wednesday     7        2  \n",
       "38878     0.7351  2022-04-04  2022      4   14     Monday     3        0  \n",
       "1123050  -0.5514  2021-04-11  2021      4   14     Sunday    12        6  \n",
       "595371    0.7351  2021-04-21  2021      4   16  Wednesday    20        2  \n",
       "\n",
       "[5 rows x 23 columns]"
      ]
     },
     "execution_count": 40,
     "metadata": {},
     "output_type": "execute_result"
    }
   ],
   "source": [
    "# you may use below functions to extract date, year, month, week, weekday, hour from a timestamp\n",
    "\n",
    "df['date']=df['created_at'].dt.date\n",
    "df['year']=df['created_at'].dt.year\n",
    "df['month']=df['created_at'].dt.month\n",
    "df['week']=df['created_at'].dt.week\n",
    "#df['day_name']=df['created_at'].dt.day_name()\n",
    "df['weekday']=df['created_at'].dt.weekday\n",
    "df['hour']=df['created_at'].dt.hour\n",
    "\n",
    "df.head()"
   ]
  },
  {
   "cell_type": "code",
   "execution_count": 35,
   "id": "153edbb2",
   "metadata": {
    "scrolled": false
   },
   "outputs": [
    {
     "data": {
      "text/plain": [
       "date\n",
       "2021-03-30     3663\n",
       "2021-03-31     3728\n",
       "2021-04-01     3244\n",
       "2021-04-02     2461\n",
       "2021-04-03     2868\n",
       "2021-04-04     2156\n",
       "2021-04-05     2449\n",
       "2021-04-06     3136\n",
       "2021-04-07     3351\n",
       "2021-04-08     4443\n",
       "2021-04-09     4187\n",
       "2021-04-10     2570\n",
       "2021-04-11     2463\n",
       "2021-04-12     3225\n",
       "2021-04-13     5918\n",
       "2021-04-14     5553\n",
       "2021-04-15     4889\n",
       "2021-04-16     4020\n",
       "2021-04-17     2403\n",
       "2021-04-18     3205\n",
       "2021-04-19     5261\n",
       "2021-04-20     6739\n",
       "2021-04-21     5798\n",
       "2021-04-22    14301\n",
       "2021-04-23     8762\n",
       "2021-04-24     4642\n",
       "2021-04-25     4024\n",
       "2021-04-26     4420\n",
       "2021-04-27     4775\n",
       "2021-04-28     4199\n",
       "2021-04-29     4305\n",
       "2021-04-30     2589\n",
       "2022-03-28      214\n",
       "2022-03-29      444\n",
       "2022-04-03     1701\n",
       "2022-04-04     4840\n",
       "Name: date, dtype: int64"
      ]
     },
     "execution_count": 35,
     "metadata": {},
     "output_type": "execute_result"
    }
   ],
   "source": [
    "df.groupby('date')['date'].count()"
   ]
  },
  {
   "cell_type": "code",
   "execution_count": 51,
   "id": "b4445ab4",
   "metadata": {},
   "outputs": [
    {
     "data": {
      "text/plain": [
       "<AxesSubplot:title={'center':'Number of Tweets by date'}, xlabel='date'>"
      ]
     },
     "execution_count": 51,
     "metadata": {},
     "output_type": "execute_result"
    },
    {
     "data": {
      "image/png": "[encoded data removed]",
      "text/plain": [
       "<Figure size 1440x720 with 1 Axes>"
      ]
     },
     "metadata": {
      "needs_background": "light"
     },
     "output_type": "display_data"
    }
   ],
   "source": [
    "# show number of tweets by date\n",
    "\n",
    "df.groupby('date')['date'].count().plot(title=\"Number of Tweets by date\")"
   ]
  },
  {
   "cell_type": "code",
   "execution_count": 50,
   "id": "17244a80",
   "metadata": {
    "scrolled": true
   },
   "outputs": [
    {
     "data": {
      "text/plain": [
       "Text(0.5, 1.0, 'Number of Tweets by Week Day')"
      ]
     },
     "execution_count": 50,
     "metadata": {},
     "output_type": "execute_result"
    },
    {
     "data": {
      "image/png": "[encoded data removed]",
      "text/plain": [
       "<Figure size 1440x720 with 1 Axes>"
      ]
     },
     "metadata": {
      "needs_background": "light"
     },
     "output_type": "display_data"
    }
   ],
   "source": [
    "# show number of tweets by weekday\n",
    "\n",
    "weekday_name=[\"Monday\", \"Tuesday\", \"Wednesday\", \"Thursday\", \"Friday\", \"Saturday\", \"Sunday\"]\n",
    "\n",
    "weekday_df=df.groupby('weekday')['tweet_id'].count().reset_index(name=\"NumTweets\")\n",
    "\n",
    "weekday_df['weekday_name']=weekday_name\n",
    "\n",
    "import matplotlib.pyplot as plt\n",
    "\n",
    "plt.plot(weekday_df['weekday_name'], weekday_df['NumTweets'])\n",
    "plt.title('Number of Tweets by Week Day')\n"
   ]
  },
  {
   "cell_type": "code",
   "execution_count": 52,
   "id": "83a3a400",
   "metadata": {
    "scrolled": false
   },
   "outputs": [
    {
     "data": {
      "text/plain": [
       "<AxesSubplot:title={'center':'Average Sentiment by date'}, xlabel='date'>"
      ]
     },
     "execution_count": 52,
     "metadata": {},
     "output_type": "execute_result"
    },
    {
     "data": {
      "image/png": "[encoded data removed]",
      "text/plain": [
       "<Figure size 1440x720 with 1 Axes>"
      ]
     },
     "metadata": {
      "needs_background": "light"
     },
     "output_type": "display_data"
    }
   ],
   "source": [
    "# show average sentiment by date\n",
    "\n",
    "df.groupby('date').agg({'compound': 'mean'}) \\\n",
    ".plot(title=\"Average Sentiment by date\")"
   ]
  },
  {
   "cell_type": "markdown",
   "id": "d3063e2e",
   "metadata": {},
   "source": [
    "## Top 10 Users by Number of Tweets by year"
   ]
  },
  {
   "cell_type": "code",
   "execution_count": 53,
   "id": "b327ac83",
   "metadata": {},
   "outputs": [
    {
     "data": {
      "text/html": [
       "<div>\n",
       "<style scoped>\n",
       "    .dataframe tbody tr th:only-of-type {\n",
       "        vertical-align: middle;\n",
       "    }\n",
       "\n",
       "    .dataframe tbody tr th {\n",
       "        vertical-align: top;\n",
       "    }\n",
       "\n",
       "    .dataframe thead th {\n",
       "        text-align: right;\n",
       "    }\n",
       "</style>\n",
       "<table border=\"1\" class=\"dataframe\">\n",
       "  <thead>\n",
       "    <tr style=\"text-align: right;\">\n",
       "      <th></th>\n",
       "      <th>year</th>\n",
       "      <th>user_name</th>\n",
       "      <th>numTweets</th>\n",
       "      <th>rank</th>\n",
       "    </tr>\n",
       "  </thead>\n",
       "  <tbody>\n",
       "    <tr>\n",
       "      <th>18740</th>\n",
       "      <td>2021</td>\n",
       "      <td>FFFBot1</td>\n",
       "      <td>265</td>\n",
       "      <td>1</td>\n",
       "    </tr>\n",
       "    <tr>\n",
       "      <th>104578</th>\n",
       "      <td>2021</td>\n",
       "      <td>trvestuff</td>\n",
       "      <td>170</td>\n",
       "      <td>2</td>\n",
       "    </tr>\n",
       "    <tr>\n",
       "      <th>66235</th>\n",
       "      <td>2021</td>\n",
       "      <td>carboncompanies</td>\n",
       "      <td>127</td>\n",
       "      <td>3</td>\n",
       "    </tr>\n",
       "    <tr>\n",
       "      <th>78349</th>\n",
       "      <td>2021</td>\n",
       "      <td>imagine_garden</td>\n",
       "      <td>111</td>\n",
       "      <td>4</td>\n",
       "    </tr>\n",
       "    <tr>\n",
       "      <th>54178</th>\n",
       "      <td>2021</td>\n",
       "      <td>TinTincognito</td>\n",
       "      <td>110</td>\n",
       "      <td>5</td>\n",
       "    </tr>\n",
       "    <tr>\n",
       "      <th>25743</th>\n",
       "      <td>2021</td>\n",
       "      <td>JFSebastian146</td>\n",
       "      <td>107</td>\n",
       "      <td>6</td>\n",
       "    </tr>\n",
       "    <tr>\n",
       "      <th>17220</th>\n",
       "      <td>2021</td>\n",
       "      <td>Eco1stArt</td>\n",
       "      <td>96</td>\n",
       "      <td>7</td>\n",
       "    </tr>\n",
       "    <tr>\n",
       "      <th>7164</th>\n",
       "      <td>2021</td>\n",
       "      <td>BetterknowYou</td>\n",
       "      <td>75</td>\n",
       "      <td>8</td>\n",
       "    </tr>\n",
       "    <tr>\n",
       "      <th>47705</th>\n",
       "      <td>2021</td>\n",
       "      <td>SaleemulHuq</td>\n",
       "      <td>70</td>\n",
       "      <td>9</td>\n",
       "    </tr>\n",
       "    <tr>\n",
       "      <th>79556</th>\n",
       "      <td>2021</td>\n",
       "      <td>jane__eden</td>\n",
       "      <td>64</td>\n",
       "      <td>10</td>\n",
       "    </tr>\n",
       "    <tr>\n",
       "      <th>109776</th>\n",
       "      <td>2022</td>\n",
       "      <td>JFSebastian146</td>\n",
       "      <td>21</td>\n",
       "      <td>1</td>\n",
       "    </tr>\n",
       "    <tr>\n",
       "      <th>110362</th>\n",
       "      <td>2022</td>\n",
       "      <td>Melbourne_7</td>\n",
       "      <td>14</td>\n",
       "      <td>2</td>\n",
       "    </tr>\n",
       "    <tr>\n",
       "      <th>113029</th>\n",
       "      <td>2022</td>\n",
       "      <td>jane__eden</td>\n",
       "      <td>12</td>\n",
       "      <td>3</td>\n",
       "    </tr>\n",
       "    <tr>\n",
       "      <th>110508</th>\n",
       "      <td>2022</td>\n",
       "      <td>NPshendurni</td>\n",
       "      <td>9</td>\n",
       "      <td>4</td>\n",
       "    </tr>\n",
       "    <tr>\n",
       "      <th>109278</th>\n",
       "      <td>2022</td>\n",
       "      <td>Eco1stArt</td>\n",
       "      <td>9</td>\n",
       "      <td>4</td>\n",
       "    </tr>\n",
       "    <tr>\n",
       "      <th>112925</th>\n",
       "      <td>2022</td>\n",
       "      <td>imagine_garden</td>\n",
       "      <td>8</td>\n",
       "      <td>6</td>\n",
       "    </tr>\n",
       "    <tr>\n",
       "      <th>108985</th>\n",
       "      <td>2022</td>\n",
       "      <td>ClimateCrisis_B</td>\n",
       "      <td>7</td>\n",
       "      <td>7</td>\n",
       "    </tr>\n",
       "    <tr>\n",
       "      <th>114796</th>\n",
       "      <td>2022</td>\n",
       "      <td>trvestuff</td>\n",
       "      <td>6</td>\n",
       "      <td>8</td>\n",
       "    </tr>\n",
       "    <tr>\n",
       "      <th>112163</th>\n",
       "      <td>2022</td>\n",
       "      <td>carboncompanies</td>\n",
       "      <td>6</td>\n",
       "      <td>8</td>\n",
       "    </tr>\n",
       "  </tbody>\n",
       "</table>\n",
       "</div>"
      ],
      "text/plain": [
       "        year        user_name  numTweets  rank\n",
       "18740   2021          FFFBot1        265     1\n",
       "104578  2021        trvestuff        170     2\n",
       "66235   2021  carboncompanies        127     3\n",
       "78349   2021   imagine_garden        111     4\n",
       "54178   2021    TinTincognito        110     5\n",
       "25743   2021   JFSebastian146        107     6\n",
       "17220   2021        Eco1stArt         96     7\n",
       "7164    2021    BetterknowYou         75     8\n",
       "47705   2021      SaleemulHuq         70     9\n",
       "79556   2021       jane__eden         64    10\n",
       "109776  2022   JFSebastian146         21     1\n",
       "110362  2022      Melbourne_7         14     2\n",
       "113029  2022       jane__eden         12     3\n",
       "110508  2022      NPshendurni          9     4\n",
       "109278  2022        Eco1stArt          9     4\n",
       "112925  2022   imagine_garden          8     6\n",
       "108985  2022  ClimateCrisis_B          7     7\n",
       "114796  2022        trvestuff          6     8\n",
       "112163  2022  carboncompanies          6     8"
      ]
     },
     "execution_count": 53,
     "metadata": {},
     "output_type": "execute_result"
    }
   ],
   "source": [
    "top10ByYear=df.groupby(['year', 'user_name'])['tweet_id'].count().reset_index(name=\"numTweets\").sort_values('numTweets', ascending=False)\n",
    "\n",
    "top10ByYear['rank']=top10ByYear.groupby('year')['numTweets'].rank(ascending=False).astype(int)\n",
    "\n",
    "top10_final=top10ByYear[top10ByYear['rank']<=10]\n",
    "\n",
    "top10_final.head(20)"
   ]
  },
  {
   "cell_type": "markdown",
   "id": "f20fe100",
   "metadata": {},
   "source": [
    "## [Choose a color palettes in seaborn](https://seaborn.pydata.org/tutorial/color_palettes.html)"
   ]
  },
  {
   "cell_type": "code",
   "execution_count": 54,
   "id": "ee788874",
   "metadata": {
    "scrolled": false
   },
   "outputs": [
    {
     "data": {
      "text/plain": [
       "<AxesSubplot:xlabel='numTweets', ylabel='user_name'>"
      ]
     },
     "execution_count": 54,
     "metadata": {},
     "output_type": "execute_result"
    },
    {
     "data": {
      "image/png": "[encoded data removed]",
      "text/plain": [
       "<Figure size 1080x720 with 1 Axes>"
      ]
     },
     "metadata": {
      "needs_background": "light"
     },
     "output_type": "display_data"
    }
   ],
   "source": [
    "# visualize the result\n",
    "\n",
    "import matplotlib.pyplot as plt\n",
    "import seaborn as sns\n",
    "import pandas as pd\n",
    "\n",
    "# Set the figure size\n",
    "plt.figure(figsize=(15,10))\n",
    "\n",
    "# Using categorical Color Brewer palettes\n",
    "palette=sns.color_palette(\"Set2\")\n",
    "\n",
    "# plot a bar chart\n",
    "sns.barplot(\n",
    "    x=\"numTweets\", \n",
    "    y=\"user_name\", \n",
    "    hue=\"year\",\n",
    "    data=top10_final, \n",
    "    palette=palette)"
   ]
  },
  {
   "cell_type": "markdown",
   "id": "9e358856",
   "metadata": {},
   "source": [
    "## Top 10 Users by Number of Retweets by year"
   ]
  },
  {
   "cell_type": "code",
   "execution_count": 55,
   "id": "0a18b511",
   "metadata": {
    "scrolled": true
   },
   "outputs": [
    {
     "data": {
      "text/html": [
       "<div>\n",
       "<style scoped>\n",
       "    .dataframe tbody tr th:only-of-type {\n",
       "        vertical-align: middle;\n",
       "    }\n",
       "\n",
       "    .dataframe tbody tr th {\n",
       "        vertical-align: top;\n",
       "    }\n",
       "\n",
       "    .dataframe thead th {\n",
       "        text-align: right;\n",
       "    }\n",
       "</style>\n",
       "<table border=\"1\" class=\"dataframe\">\n",
       "  <thead>\n",
       "    <tr style=\"text-align: right;\">\n",
       "      <th></th>\n",
       "      <th>year</th>\n",
       "      <th>retweet_user_name</th>\n",
       "      <th>numRetweets</th>\n",
       "      <th>rank</th>\n",
       "    </tr>\n",
       "  </thead>\n",
       "  <tbody>\n",
       "    <tr>\n",
       "      <th>7927</th>\n",
       "      <td>2021</td>\n",
       "      <td>POTUS</td>\n",
       "      <td>2797</td>\n",
       "      <td>1</td>\n",
       "    </tr>\n",
       "    <tr>\n",
       "      <th>16194</th>\n",
       "      <td>2021</td>\n",
       "      <td>mikepompeo</td>\n",
       "      <td>1517</td>\n",
       "      <td>2</td>\n",
       "    </tr>\n",
       "    <tr>\n",
       "      <th>14365</th>\n",
       "      <td>2021</td>\n",
       "      <td>georgixlouisex</td>\n",
       "      <td>1328</td>\n",
       "      <td>3</td>\n",
       "    </tr>\n",
       "    <tr>\n",
       "      <th>16586</th>\n",
       "      <td>2021</td>\n",
       "      <td>notsoaidil</td>\n",
       "      <td>1068</td>\n",
       "      <td>4</td>\n",
       "    </tr>\n",
       "    <tr>\n",
       "      <th>5023</th>\n",
       "      <td>2021</td>\n",
       "      <td>ImranKhanPTI</td>\n",
       "      <td>1029</td>\n",
       "      <td>5</td>\n",
       "    </tr>\n",
       "    <tr>\n",
       "      <th>4492</th>\n",
       "      <td>2021</td>\n",
       "      <td>GretaThunberg</td>\n",
       "      <td>939</td>\n",
       "      <td>6</td>\n",
       "    </tr>\n",
       "    <tr>\n",
       "      <th>8139</th>\n",
       "      <td>2021</td>\n",
       "      <td>PeterStefanovi2</td>\n",
       "      <td>875</td>\n",
       "      <td>7</td>\n",
       "    </tr>\n",
       "    <tr>\n",
       "      <th>17313</th>\n",
       "      <td>2021</td>\n",
       "      <td>robreiner</td>\n",
       "      <td>861</td>\n",
       "      <td>8</td>\n",
       "    </tr>\n",
       "    <tr>\n",
       "      <th>1852</th>\n",
       "      <td>2021</td>\n",
       "      <td>COP26</td>\n",
       "      <td>850</td>\n",
       "      <td>9</td>\n",
       "    </tr>\n",
       "    <tr>\n",
       "      <th>5037</th>\n",
       "      <td>2021</td>\n",
       "      <td>Independent</td>\n",
       "      <td>840</td>\n",
       "      <td>10</td>\n",
       "    </tr>\n",
       "    <tr>\n",
       "      <th>20299</th>\n",
       "      <td>2022</td>\n",
       "      <td>tammtamp</td>\n",
       "      <td>408</td>\n",
       "      <td>1</td>\n",
       "    </tr>\n",
       "    <tr>\n",
       "      <th>19427</th>\n",
       "      <td>2022</td>\n",
       "      <td>Letter_to_Jack</td>\n",
       "      <td>287</td>\n",
       "      <td>2</td>\n",
       "    </tr>\n",
       "    <tr>\n",
       "      <th>20030</th>\n",
       "      <td>2022</td>\n",
       "      <td>golferic1</td>\n",
       "      <td>245</td>\n",
       "      <td>3</td>\n",
       "    </tr>\n",
       "    <tr>\n",
       "      <th>20210</th>\n",
       "      <td>2022</td>\n",
       "      <td>nttppon</td>\n",
       "      <td>234</td>\n",
       "      <td>4</td>\n",
       "    </tr>\n",
       "    <tr>\n",
       "      <th>18942</th>\n",
       "      <td>2022</td>\n",
       "      <td>77_Kiah</td>\n",
       "      <td>228</td>\n",
       "      <td>5</td>\n",
       "    </tr>\n",
       "    <tr>\n",
       "      <th>19885</th>\n",
       "      <td>2022</td>\n",
       "      <td>beautifulgrlli</td>\n",
       "      <td>198</td>\n",
       "      <td>6</td>\n",
       "    </tr>\n",
       "    <tr>\n",
       "      <th>20316</th>\n",
       "      <td>2022</td>\n",
       "      <td>tomiwebstr</td>\n",
       "      <td>148</td>\n",
       "      <td>7</td>\n",
       "    </tr>\n",
       "    <tr>\n",
       "      <th>19731</th>\n",
       "      <td>2022</td>\n",
       "      <td>TheAjibolaGrey</td>\n",
       "      <td>147</td>\n",
       "      <td>8</td>\n",
       "    </tr>\n",
       "    <tr>\n",
       "      <th>19280</th>\n",
       "      <td>2022</td>\n",
       "      <td>GreenSolitaire</td>\n",
       "      <td>116</td>\n",
       "      <td>9</td>\n",
       "    </tr>\n",
       "    <tr>\n",
       "      <th>19732</th>\n",
       "      <td>2022</td>\n",
       "      <td>TheAnness</td>\n",
       "      <td>80</td>\n",
       "      <td>10</td>\n",
       "    </tr>\n",
       "  </tbody>\n",
       "</table>\n",
       "</div>"
      ],
      "text/plain": [
       "       year retweet_user_name  numRetweets  rank\n",
       "7927   2021             POTUS         2797     1\n",
       "16194  2021        mikepompeo         1517     2\n",
       "14365  2021    georgixlouisex         1328     3\n",
       "16586  2021        notsoaidil         1068     4\n",
       "5023   2021      ImranKhanPTI         1029     5\n",
       "4492   2021     GretaThunberg          939     6\n",
       "8139   2021   PeterStefanovi2          875     7\n",
       "17313  2021         robreiner          861     8\n",
       "1852   2021             COP26          850     9\n",
       "5037   2021       Independent          840    10\n",
       "20299  2022          tammtamp          408     1\n",
       "19427  2022    Letter_to_Jack          287     2\n",
       "20030  2022         golferic1          245     3\n",
       "20210  2022           nttppon          234     4\n",
       "18942  2022           77_Kiah          228     5\n",
       "19885  2022    beautifulgrlli          198     6\n",
       "20316  2022        tomiwebstr          148     7\n",
       "19731  2022    TheAjibolaGrey          147     8\n",
       "19280  2022    GreenSolitaire          116     9\n",
       "19732  2022         TheAnness           80    10"
      ]
     },
     "execution_count": 55,
     "metadata": {},
     "output_type": "execute_result"
    }
   ],
   "source": [
    "top10ByYear=df.groupby(['year', 'retweet_user_name'])['tweet_id'].count().reset_index(name=\"numRetweets\").sort_values('numRetweets', ascending=False)\n",
    "\n",
    "top10ByYear['rank']=top10ByYear.groupby('year')['numRetweets'].rank(ascending=False).astype(int)\n",
    "\n",
    "top10_final=top10ByYear[top10ByYear['rank']<=10]\n",
    "\n",
    "top10_final.head(20)"
   ]
  },
  {
   "cell_type": "code",
   "execution_count": 56,
   "id": "77d5f932",
   "metadata": {
    "scrolled": true
   },
   "outputs": [
    {
     "data": {
      "text/plain": [
       "<AxesSubplot:xlabel='numRetweets', ylabel='retweet_user_name'>"
      ]
     },
     "execution_count": 56,
     "metadata": {},
     "output_type": "execute_result"
    },
    {
     "data": {
      "image/png": "[encoded data removed]",
      "text/plain": [
       "<Figure size 1080x720 with 1 Axes>"
      ]
     },
     "metadata": {
      "needs_background": "light"
     },
     "output_type": "display_data"
    }
   ],
   "source": [
    "# visualize the result\n",
    "\n",
    "import matplotlib.pyplot as plt\n",
    "import seaborn as sns\n",
    "import pandas as pd\n",
    "\n",
    "# Set the figure size\n",
    "plt.figure(figsize=(15,10))\n",
    "\n",
    "# Using categorical Color Brewer palettes\n",
    "palette=sns.color_palette(\"Set2\")\n",
    "\n",
    "# plot a bar chart\n",
    "sns.barplot(\n",
    "    x=\"numRetweets\", \n",
    "    y=\"retweet_user_name\", \n",
    "    hue=\"year\",\n",
    "    data=top10_final, \n",
    "    palette=palette)"
   ]
  },
  {
   "cell_type": "markdown",
   "id": "60b8bccc",
   "metadata": {},
   "source": [
    "## Look at particular keyword by time"
   ]
  },
  {
   "cell_type": "code",
   "execution_count": 35,
   "id": "200ba9cb",
   "metadata": {},
   "outputs": [],
   "source": [
    "# use full dataset\n",
    "\n",
    "df=pd.read_csv('climate_change02.csv', sep='|')\n",
    "df_2021=pd.read_csv('data\\climatechange_202104.withHeader.csv', sep='|')\n",
    "\n",
    "# join tweets in April 2021 with current tweets\n",
    "\n",
    "df=pd.concat([df, df_2021])"
   ]
  },
  {
   "cell_type": "code",
   "execution_count": 41,
   "id": "ada500b7",
   "metadata": {},
   "outputs": [],
   "source": [
    "# define a function to create a column showing whether a tweet includes a keyword\n",
    "import re\n",
    "\n",
    "def create_column_by_keyword(df, keyword):\n",
    "    result=[]\n",
    "    for tweet in list(df['text']):\n",
    "        if re.match(keyword, tweet, re.IGNORECASE) is not None:\n",
    "            result.append(1)\n",
    "        else:\n",
    "            result.append(0)\n",
    "        \n",
    "    df[keyword]=result"
   ]
  },
  {
   "cell_type": "code",
   "execution_count": 61,
   "id": "87c4d579",
   "metadata": {},
   "outputs": [],
   "source": [
    "# create a column based on keyword\n",
    "\n",
    "keyword=\"food\"\n",
    "create_column_by_keyword(df,keyword)"
   ]
  },
  {
   "cell_type": "code",
   "execution_count": 57,
   "id": "e965f4a6",
   "metadata": {},
   "outputs": [
    {
     "data": {
      "text/plain": [
       "0    1632580\n",
       "1        149\n",
       "Name: food, dtype: int64"
      ]
     },
     "execution_count": 57,
     "metadata": {},
     "output_type": "execute_result"
    }
   ],
   "source": [
    "# check number of tweets in keyword\n",
    "df[keyword].value_counts()"
   ]
  },
  {
   "cell_type": "code",
   "execution_count": 58,
   "id": "df52352b",
   "metadata": {
    "scrolled": true
   },
   "outputs": [
    {
     "data": {
      "text/plain": [
       "27883               Food Water Shelter  Right Wing Economics is failing/has failed the WORLD over…   WE’RE sold a DREAM - ITS turned in… https://t.co/aG1DSN9L1B\n",
       "36416               Food is a major contributor to climate change – 50% of the land used for agriculture today is for animal farming an… https://t.co/t6MDaSepT7\n",
       "47687                      Food and Agriculture Organization is hiring a Climate Change Specialist. https://t.co/3DYiKaTQxo #jobstalent… https://t.co/ZM9wW9ec1o\n",
       "10480      Food website @epicurious recently announced it would be ditching #beefrecipes in an effort to encourage more #sustainable consumption among its re...\n",
       "14538      Food insecurity is a major issue in India. Climate change further exacerbates the problem. Extreme weather can contribute to the development of cr...\n",
       "                                                                                   ...                                                                          \n",
       "1499483    Food waste is a global issue. Food that you don't consume but throw away refers to food waste. Even though there isn't much awareness about this i...\n",
       "1501256    Food, clothes, plastics, electronics, and machines all generate waste and contribute to #Climate Change.   How can #circularity help?  @magyarj an...\n",
       "1513142                                        Food habits, climate change: Indian politicians don't even refer to 'existential' threats https://t.co/Ie7v4D0D4N\n",
       "1513313                                        Food habits, climate change: Indian politicians don't even refer to 'existential' threats https://t.co/dimk9AKUUl\n",
       "1531186                           Food System Opportunities in the Biden Executive Order on Climate Change - PLANETARY HEALTH COLLECTIVE https://t.co/PMrETyQMO6\n",
       "Name: text, Length: 149, dtype: object"
      ]
     },
     "execution_count": 58,
     "metadata": {},
     "output_type": "execute_result"
    }
   ],
   "source": [
    "# check tweets including keywords\n",
    "\n",
    "df[df[keyword]==1]['text']"
   ]
  }
 ],
 "metadata": {
  "kernelspec": {
   "display_name": "Python 3 (ipykernel)",
   "language": "python",
   "name": "python3"
  },
  "language_info": {
   "codemirror_mode": {
    "name": "ipython",
    "version": 3
   },
   "file_extension": ".py",
   "mimetype": "text/x-python",
   "name": "python",
   "nbconvert_exporter": "python",
   "pygments_lexer": "ipython3",
   "version": "3.8.3"
  }
 },
 "nbformat": 4,
 "nbformat_minor": 5
}
